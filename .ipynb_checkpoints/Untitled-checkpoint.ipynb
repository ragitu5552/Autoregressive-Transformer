{
 "cells": [
  {
   "cell_type": "code",
   "execution_count": 1,
   "id": "391075d3-8c89-4598-a367-808c7cf56080",
   "metadata": {},
   "outputs": [],
   "source": [
    "with open('input.txt', 'r', encoding='utf-8') as f:\n",
    "    text = f.read()"
   ]
  },
  {
   "cell_type": "code",
   "execution_count": 2,
   "id": "4055b7b3-f51a-4180-a730-53b4a1b39b0c",
   "metadata": {},
   "outputs": [
    {
     "name": "stdout",
     "output_type": "stream",
     "text": [
      "length of dataset in characte:  1115394\n"
     ]
    }
   ],
   "source": [
    "print('length of dataset in characte: ', len(text))"
   ]
  },
  {
   "cell_type": "code",
   "execution_count": 3,
   "id": "30bf239d-2063-44cb-b482-8ab0048a733e",
   "metadata": {},
   "outputs": [
    {
     "name": "stdout",
     "output_type": "stream",
     "text": [
      "First Citizen:\n",
      "Before we proceed any further, hear me speak.\n",
      "\n",
      "All:\n",
      "Speak, speak.\n",
      "\n",
      "First Citizen:\n",
      "You\n"
     ]
    }
   ],
   "source": [
    "print(text[:100])"
   ]
  },
  {
   "cell_type": "code",
   "execution_count": 4,
   "id": "dc4e6c03-28ef-47ab-8018-3d7e3d8882d0",
   "metadata": {},
   "outputs": [
    {
     "name": "stdout",
     "output_type": "stream",
     "text": [
      "\n",
      " !$&',-.3:;?ABCDEFGHIJKLMNOPQRSTUVWXYZabcdefghijklmnopqrstuvwxyz\n",
      "65\n"
     ]
    }
   ],
   "source": [
    "chars = sorted(list(set(text)))\n",
    "vocab_size = len(chars)\n",
    "print(''.join(chars))\n",
    "print(vocab_size)"
   ]
  },
  {
   "cell_type": "markdown",
   "id": "ddd64958-9d2a-4dd3-a87a-1deb986e6ab7",
   "metadata": {},
   "source": [
    "**Will be using Character level Tokenizer**"
   ]
  },
  {
   "cell_type": "code",
   "execution_count": 5,
   "id": "110fc434-ce55-4420-8605-df4a73565f0c",
   "metadata": {},
   "outputs": [],
   "source": [
    "# Tokenizer\n",
    "\n",
    "#Creating a mapping between characters and integers\n",
    "stoi = {ch:i for i, ch in enumerate(chars)}\n",
    "itos = {i:ch for i, ch in enumerate(chars)}\n",
    "encode = lambda s: [stoi[ch] for ch in s]\n",
    "decode = lambda l: ''.join(itos[i] for i in l)"
   ]
  },
  {
   "cell_type": "code",
   "execution_count": 6,
   "id": "c4bca2c1-69d7-4a7f-92b5-8ebcd7365bac",
   "metadata": {},
   "outputs": [
    {
     "data": {
      "text/plain": [
       "torch.Size([1115394])"
      ]
     },
     "execution_count": 6,
     "metadata": {},
     "output_type": "execute_result"
    }
   ],
   "source": [
    "# Tokenizing the data\n",
    "\n",
    "import torch\n",
    "data = torch.tensor(encode(text), dtype=torch.long)\n",
    "data.shape"
   ]
  },
  {
   "cell_type": "code",
   "execution_count": 7,
   "id": "27e4a165-6c87-44e0-b94c-02b0f7a3c0ee",
   "metadata": {},
   "outputs": [
    {
     "data": {
      "text/plain": [
       "(torch.Size([1003854]), torch.Size([111540]))"
      ]
     },
     "execution_count": 7,
     "metadata": {},
     "output_type": "execute_result"
    }
   ],
   "source": [
    "# Train and Validation set\n",
    "\n",
    "n = int(0.9 * len(data))\n",
    "train_data = data[:n]\n",
    "val_data = data[n:]\n",
    "train_data.shape, val_data.shape"
   ]
  },
  {
   "cell_type": "code",
   "execution_count": 8,
   "id": "d5898dff-fe63-4b28-b85e-d75ecba29641",
   "metadata": {},
   "outputs": [],
   "source": [
    "n = (int)(0.9*len(data))\n",
    "train_data = data[:n]\n",
    "valid_data = data[n:]"
   ]
  },
  {
   "cell_type": "code",
   "execution_count": 10,
   "id": "35b8c5a5-ac14-4842-a14e-4e819d154832",
   "metadata": {},
   "outputs": [
    {
     "data": {
      "text/plain": [
       "tensor([18, 47, 56, 57, 58,  1, 15, 47, 58])"
      ]
     },
     "execution_count": 10,
     "metadata": {},
     "output_type": "execute_result"
    }
   ],
   "source": [
    "block_size = 8\n",
    "train_data[:block_size+1]"
   ]
  },
  {
   "cell_type": "code",
   "execution_count": 11,
   "id": "0565dffa-7b24-4596-920b-7f3b217d791d",
   "metadata": {},
   "outputs": [],
   "source": [
    "x = train_data[:block_size]\n",
    "y = train_data[1:block_size+1]"
   ]
  },
  {
   "cell_type": "code",
   "execution_count": 12,
   "id": "7679e20c-967e-40ca-a748-972f4b250271",
   "metadata": {},
   "outputs": [
    {
     "name": "stdout",
     "output_type": "stream",
     "text": [
      "when input is tensor([], dtype=torch.int64), target is 18\n",
      "when input is tensor([18]), target is 47\n",
      "when input is tensor([18, 47]), target is 56\n",
      "when input is tensor([18, 47, 56]), target is 57\n",
      "when input is tensor([18, 47, 56, 57]), target is 58\n",
      "when input is tensor([18, 47, 56, 57, 58]), target is 1\n",
      "when input is tensor([18, 47, 56, 57, 58,  1]), target is 15\n",
      "when input is tensor([18, 47, 56, 57, 58,  1, 15]), target is 47\n"
     ]
    }
   ],
   "source": [
    "for t in range(block_size):\n",
    "    context = x[:t]\n",
    "    target = x[t]\n",
    "    print(f'when input is {context}, target is {target}')"
   ]
  },
  {
   "cell_type": "markdown",
   "id": "5fac7caa-8d5c-4b13-a088-708517cdb3df",
   "metadata": {},
   "source": [
    "#Will process multiple samples parallel for computation efficiency as a batch"
   ]
  },
  {
   "cell_type": "code",
   "execution_count": 9,
   "id": "b0bde977-e9a0-4d5e-b483-887fc9bf1c08",
   "metadata": {},
   "outputs": [
    {
     "name": "stdout",
     "output_type": "stream",
     "text": [
      "inputs:\n",
      "torch.Size([4, 8])\n",
      "tensor([[58, 53,  1, 55, 59, 43, 52, 41],\n",
      "        [59,  1, 42, 53, 61, 52, 10,  0],\n",
      "        [45, 11,  0, 32, 46, 39, 58,  1],\n",
      "        [53,  1, 58, 46, 43, 51, 12,  0]])\n",
      "targets:\n",
      "torch.Size([4, 8])\n",
      "tensor([[53,  1, 55, 59, 43, 52, 41, 46],\n",
      "        [ 1, 42, 53, 61, 52, 10,  0, 32],\n",
      "        [11,  0, 32, 46, 39, 58,  1, 42],\n",
      "        [ 1, 58, 46, 43, 51, 12,  0,  0]])\n",
      "----\n",
      "when input is [58] the target: 53\n",
      "when input is [58, 53] the target: 1\n",
      "when input is [58, 53, 1] the target: 55\n",
      "when input is [58, 53, 1, 55] the target: 59\n",
      "when input is [58, 53, 1, 55, 59] the target: 43\n",
      "when input is [58, 53, 1, 55, 59, 43] the target: 52\n",
      "when input is [58, 53, 1, 55, 59, 43, 52] the target: 41\n",
      "when input is [58, 53, 1, 55, 59, 43, 52, 41] the target: 46\n",
      "when input is [59] the target: 1\n",
      "when input is [59, 1] the target: 42\n",
      "when input is [59, 1, 42] the target: 53\n",
      "when input is [59, 1, 42, 53] the target: 61\n",
      "when input is [59, 1, 42, 53, 61] the target: 52\n",
      "when input is [59, 1, 42, 53, 61, 52] the target: 10\n",
      "when input is [59, 1, 42, 53, 61, 52, 10] the target: 0\n",
      "when input is [59, 1, 42, 53, 61, 52, 10, 0] the target: 32\n",
      "when input is [45] the target: 11\n",
      "when input is [45, 11] the target: 0\n",
      "when input is [45, 11, 0] the target: 32\n",
      "when input is [45, 11, 0, 32] the target: 46\n",
      "when input is [45, 11, 0, 32, 46] the target: 39\n",
      "when input is [45, 11, 0, 32, 46, 39] the target: 58\n",
      "when input is [45, 11, 0, 32, 46, 39, 58] the target: 1\n",
      "when input is [45, 11, 0, 32, 46, 39, 58, 1] the target: 42\n",
      "when input is [53] the target: 1\n",
      "when input is [53, 1] the target: 58\n",
      "when input is [53, 1, 58] the target: 46\n",
      "when input is [53, 1, 58, 46] the target: 43\n",
      "when input is [53, 1, 58, 46, 43] the target: 51\n",
      "when input is [53, 1, 58, 46, 43, 51] the target: 12\n",
      "when input is [53, 1, 58, 46, 43, 51, 12] the target: 0\n",
      "when input is [53, 1, 58, 46, 43, 51, 12, 0] the target: 0\n"
     ]
    }
   ],
   "source": [
    "g = torch.Generator().manual_seed(1337)\n",
    "\n",
    "# How many independent sequences will we process in parallel\n",
    "batch_size = 4 \n",
    "\n",
    "# Maximum context length for prediction\n",
    "block_size = 8\n",
    "\n",
    "def get_batch(split):\n",
    "    # generate a small batch of data of inputs x and targets y\n",
    "    data = train_data if split == 'train' else val_data\n",
    "    ix = torch.randint(len(data) - block_size, (batch_size,))\n",
    "    x = torch.stack([data[i:i+block_size] for i in ix])\n",
    "    y = torch.stack([data[i+1:i+block_size+1] for i in ix])\n",
    "    return x, y\n",
    "\n",
    "xb, yb = get_batch('train')\n",
    "print('inputs:')\n",
    "print(xb.shape)\n",
    "print(xb)\n",
    "print('targets:')\n",
    "print(yb.shape)\n",
    "print(yb)\n",
    "\n",
    "print('----')\n",
    "\n",
    "for b in range(batch_size): # batch dimension\n",
    "    for t in range(block_size): # time dimension\n",
    "        context = xb[b, :t+1]\n",
    "        target = yb[b,t]\n",
    "        print(f\"when input is {context.tolist()} the target: {target}\")\n"
   ]
  },
  {
   "cell_type": "code",
   "execution_count": 14,
   "id": "daf854f1-ccf2-4a73-aafb-e1b64d9673e3",
   "metadata": {},
   "outputs": [
    {
     "data": {
      "text/plain": [
       "tensor([673045, 478088, 411446, 300129])"
      ]
     },
     "execution_count": 14,
     "metadata": {},
     "output_type": "execute_result"
    }
   ],
   "source": [
    "ix = torch.randint(len(data-block_size), (4, ))\n",
    "ix"
   ]
  },
  {
   "cell_type": "code",
   "execution_count": 15,
   "id": "27b0f70c-dd43-464f-a732-09be4034b71e",
   "metadata": {},
   "outputs": [],
   "source": [
    "# Checking with BigramModel\n",
    "\n",
    "# Lookup table for Bigram\n",
    "N = torch.zeros((vocab_size, vocab_size))\n",
    "for ix, iy in zip(train_data, train_data[1:]):\n",
    "    N[ix, iy] += 1\n",
    "\n",
    "N.requires_grad = True\n"
   ]
  },
  {
   "cell_type": "code",
   "execution_count": 16,
   "id": "3704d1b3-1789-4be3-94a9-42d2a9bc061a",
   "metadata": {},
   "outputs": [
    {
     "data": {
      "text/plain": [
       "(torch.Size([32]), torch.Size([4, 8]))"
      ]
     },
     "execution_count": 16,
     "metadata": {},
     "output_type": "execute_result"
    }
   ],
   "source": [
    "xb.view(4*8).shape, yb.shape"
   ]
  },
  {
   "cell_type": "code",
   "execution_count": 17,
   "id": "3128e2a0-f343-4b6a-bc28-48b529b24951",
   "metadata": {},
   "outputs": [],
   "source": [
    "import torch.nn.functional as F\n",
    "import matplotlib.pyplot as plt"
   ]
  },
  {
   "cell_type": "code",
   "execution_count": 18,
   "id": "ab9dfb44-3472-4d37-bfe7-8ed266d4908a",
   "metadata": {},
   "outputs": [
    {
     "name": "stdout",
     "output_type": "stream",
     "text": [
      "7502.5625\n",
      "5185.5166015625\n",
      "7001.43798828125\n",
      "7034.14013671875\n",
      "6985.1875\n",
      "7555.029296875\n",
      "5654.685546875\n",
      "6175.3525390625\n",
      "7323.7607421875\n",
      "6708.7958984375\n",
      "4684.037109375\n",
      "7369.37548828125\n",
      "\n"
     ]
    }
   ],
   "source": [
    "j = 1\n",
    "text = ''\n",
    "p = N.float()\n",
    "lossi = []\n",
    "for i in range(6000):\n",
    "    p = F.softmax(p, dim=1)\n",
    "    xb, yb = get_batch('train')\n",
    "    logits = N[xb.view(xb.shape[0]*xb.shape[1])]\n",
    "    targets = yb.view(yb.shape[0]*yb.shape[1])\n",
    "\n",
    "    N.grad = None\n",
    "    loss = F.cross_entropy(logits, targets)\n",
    "    lossi.append(loss.item())\n",
    "    if i%500 == 0:\n",
    "        print(loss.item())\n",
    "    loss.backward()\n",
    "    \n",
    "    N.data += -0.1*N.grad\n",
    "    \n",
    "print(text)"
   ]
  },
  {
   "cell_type": "code",
   "execution_count": 19,
   "id": "1b0d9a3d-17bc-4999-890f-f702d99c1362",
   "metadata": {},
   "outputs": [
    {
     "data": {
      "text/plain": [
       "[<matplotlib.lines.Line2D at 0x28785059280>]"
      ]
     },
     "execution_count": 19,
     "metadata": {},
     "output_type": "execute_result"
    },
    {
     "data": {
      "image/png": "[encoded data removed]",
      "text/plain": [
       "<Figure size 640x480 with 1 Axes>"
      ]
     },
     "metadata": {},
     "output_type": "display_data"
    }
   ],
   "source": [
    "plt.plot(torch.tensor(lossi).view(100, -1).mean(1))"
   ]
  },
  {
   "cell_type": "markdown",
   "id": "70e5daca-40f0-41e8-80a0-00314477199b",
   "metadata": {},
   "source": [
    "**B, T, C = train_data.shape, where for example B is batch_size, 4 and T is time step/ block_size and C is correspoding info about that element. C is important here for self-attension.**"
   ]
  },
  {
   "cell_type": "markdown",
   "id": "8368e520-c517-4daa-a65c-2cc6b05fc42e",
   "metadata": {},
   "source": [
    "For self-attention, I will add average of all tokens, C feature before the token right now. Which will kind of give me the context of the history. This is a really weak implementation. Might improve on this later."
   ]
  },
  {
   "cell_type": "code",
   "execution_count": 20,
   "id": "a5f64768-6972-4102-b632-5e95ccacddfc",
   "metadata": {},
   "outputs": [],
   "source": [
    "x = torch.randn(4, 8, 2)\n",
    "B, T, C = x.shape\n",
    "xb = torch.zeros(4, 8, 2)\n",
    "\n",
    "for b in range(B):\n",
    "    for t in range(T):\n",
    "        prev = x[b, :t+1]\n",
    "        xb[b, t] = torch.mean(prev, dim=0)"
   ]
  },
  {
   "cell_type": "code",
   "execution_count": 21,
   "id": "5880a8ed-7d9b-42f5-aac2-5722de9d7105",
   "metadata": {},
   "outputs": [],
   "source": [
    "# Another efficient method for this\n",
    "\n",
    "x = torch.rand(4, 8, 2)\n",
    "B, T, C = x.shape\n",
    "w = torch.tril(torch.ones(8, 8))\n",
    "w = w/w.sum(dim=1, keepdim=True)\n",
    "xb = w @ x  # broadcasting\n"
   ]
  },
  {
   "cell_type": "code",
   "execution_count": 22,
   "id": "7ffd2f78-5bc2-4a99-a705-f4e4c1315b93",
   "metadata": {},
   "outputs": [
    {
     "data": {
      "text/plain": [
       "tensor([[1.0000, 0.0000, 0.0000, 0.0000, 0.0000, 0.0000, 0.0000, 0.0000],\n",
       "        [0.5000, 0.5000, 0.0000, 0.0000, 0.0000, 0.0000, 0.0000, 0.0000],\n",
       "        [0.3333, 0.3333, 0.3333, 0.0000, 0.0000, 0.0000, 0.0000, 0.0000],\n",
       "        [0.2500, 0.2500, 0.2500, 0.2500, 0.0000, 0.0000, 0.0000, 0.0000],\n",
       "        [0.2000, 0.2000, 0.2000, 0.2000, 0.2000, 0.0000, 0.0000, 0.0000],\n",
       "        [0.1667, 0.1667, 0.1667, 0.1667, 0.1667, 0.1667, 0.0000, 0.0000],\n",
       "        [0.1429, 0.1429, 0.1429, 0.1429, 0.1429, 0.1429, 0.1429, 0.0000],\n",
       "        [0.1250, 0.1250, 0.1250, 0.1250, 0.1250, 0.1250, 0.1250, 0.1250]])"
      ]
     },
     "execution_count": 22,
     "metadata": {},
     "output_type": "execute_result"
    }
   ],
   "source": [
    "w"
   ]
  },
  {
   "cell_type": "code",
   "execution_count": 23,
   "id": "2cdd0763-8f4e-4c94-8be2-183208f52ea0",
   "metadata": {},
   "outputs": [
    {
     "data": {
      "text/plain": [
       "torch.Size([4, 8, 2])"
      ]
     },
     "execution_count": 23,
     "metadata": {},
     "output_type": "execute_result"
    }
   ],
   "source": [
    "xb.shape"
   ]
  },
  {
   "cell_type": "markdown",
   "id": "72397190-b900-4b23-90eb-ae1333d82037",
   "metadata": {},
   "source": [
    "**Note**: by simply averaging, the past embedding feature values, C. It gives equal weight to all the past tokens. This is what we are now, will be solved using Self-attention model. \n",
    "Every single token will emit two vectors Q, query (what the token is looking for) and K, key (what do i contain). Value, v if you find me interesting here is what i will communicate to you. so v is the thing that aggregated for the purpose of this single head."
   ]
  },
  {
   "cell_type": "code",
   "execution_count": 24,
   "id": "89455f54-e901-4bfb-8f4a-a0dd9a175b2e",
   "metadata": {},
   "outputs": [],
   "source": [
    "import torch.nn.functional as F"
   ]
  },
  {
   "cell_type": "code",
   "execution_count": 25,
   "id": "e45189f5-c047-40fc-a1ef-2f9c9a89e76c",
   "metadata": {},
   "outputs": [
    {
     "data": {
      "text/plain": [
       "torch.Size([4, 8, 16])"
      ]
     },
     "execution_count": 25,
     "metadata": {},
     "output_type": "execute_result"
    }
   ],
   "source": [
    "torch.manual_seed(1337)\n",
    "x = torch.randn(4, 8, 32)\n",
    "B, T, C = x.shape\n",
    "\n",
    "# Single Head attention\n",
    "head_size = 16\n",
    "w1 = torch.randn(C, head_size)\n",
    "Q = x @ w1\n",
    "w2 = torch.randn(C, head_size)\n",
    "k = x @ w2\n",
    "w3 = torch.randn(C, head_size)\n",
    "v = x @ w3\n",
    "# Now the talking part between each other (tokens)\n",
    "w = Q @ k.transpose(-2, -1) * head_size**0.5                                     # Scaled-attention(Q, K, V) = (softmax(Q k.T)/sqrt(dk = head_size)) V\n",
    "\n",
    "# w = torch.tril(torch.ones(T, T))\n",
    "# w = w/w.sum(dim=1, keepdim=True)\n",
    "# w @ x\n",
    "\n",
    "tril = torch.tril(torch.ones(T, T))\n",
    "w = w.masked_fill(tril==0, float('-inf'))  # future knowledge won't pass in the current or past tokens\n",
    "w = F.softmax(w, dim=-1)\n",
    "out = w @ v\n",
    "out.shape"
   ]
  },
  {
   "cell_type": "code",
   "execution_count": 38,
   "id": "43a8b777-6ab0-4c55-96eb-cb5149f2cd99",
   "metadata": {},
   "outputs": [],
   "source": [
    "\n",
    "g = torch.Generator().manual_seed(1337)\n",
    "vocab_size = 65\n",
    "emb_size = 30\n",
    "head_size = 4\n",
    "block_size = 12\n",
    "batch_size = 10\n",
    "token = torch.randn((vocab_size, emb_size), requires_grad=True)\n",
    "position = torch.randn((block_size, emb_size), requires_grad=True)\n",
    "\n",
    "W1 = torch.randn((emb_size, head_size), generator=g)*head_size**-0.5\n",
    "W2 = torch.randn((emb_size, head_size), generator=g)*head_size**-0.5\n",
    "W3 = torch.randn((emb_size, head_size), generator=g)*head_size**-0.5\n",
    "W4  =torch.randn((head_size, vocab_size), generator=g) * vocab_size**-0.5\n",
    "tril = torch.tril(torch.ones(block_size, block_size))\n",
    "\n",
    "P = [W1, W2, W3, W4, token, position]\n",
    "for p in P:\n",
    "  p.requires_grad = True"
   ]
  },
  {
   "cell_type": "code",
   "execution_count": 40,
   "id": "f03aaa65-5ec1-483f-b29c-f2674d25c646",
   "metadata": {},
   "outputs": [
    {
     "name": "stdout",
     "output_type": "stream",
     "text": [
      "4.568902492523193\n",
      "3.114330768585205\n",
      "2.805793046951294\n",
      "2.9972825050354004\n",
      "2.67849063873291\n"
     ]
    },
    {
     "data": {
      "text/plain": [
       "tensor(2.6662, grad_fn=<NllLossBackward0>)"
      ]
     },
     "execution_count": 40,
     "metadata": {},
     "output_type": "execute_result"
    }
   ],
   "source": [
    "\n",
    "lossi = []\n",
    "for i in range(5000):\n",
    "  xb, targets = get_batch('train')\n",
    "  emb_token = token[xb]\n",
    "  emb_position = position[torch.arange(block_size)]\n",
    "  emb = emb_token + emb_position\n",
    "\n",
    "  Q = emb @ W1\n",
    "  k = emb @ W2\n",
    "  v = emb @ W3\n",
    "\n",
    "  wei = Q @ k.transpose(-2, -1) * head_size**-0.5\n",
    "\n",
    "  #wei = torch.zeros((T,T))\n",
    "  wei = wei.masked_fill(tril == 0, float('-inf'))\n",
    "  wei = F.softmax(wei, dim=-1)\n",
    "\n",
    "  out = wei @ v\n",
    "  logits = out @ W4\n",
    "  B, T, C = logits.shape\n",
    "  logits = logits.view(B*T, C)\n",
    "  targets = targets.view(B*T)\n",
    "  loss = F.cross_entropy(logits, targets)\n",
    "  lossi.append(loss.item())\n",
    "  if i % 1000 == 0:\n",
    "    print(loss.item())\n",
    "\n",
    "  # Loss\n",
    "  if i < 20000:\n",
    "    lr = 0.1\n",
    "  else:\n",
    "    lr = 0.001\n",
    "  for p in P:\n",
    "    p.grad = None\n",
    "  loss.backward()\n",
    "  for p in P:\n",
    "    p.data += -lr* p.grad\n",
    "\n",
    "loss"
   ]
  },
  {
   "cell_type": "code",
   "execution_count": 29,
   "id": "187a3151-3407-4ade-8c35-6f2e6011cefe",
   "metadata": {},
   "outputs": [
    {
     "data": {
      "text/plain": [
       "[<matplotlib.lines.Line2D at 0x287adb79280>]"
      ]
     },
     "execution_count": 29,
     "metadata": {},
     "output_type": "execute_result"
    },
    {
     "data": {
      "image/png": "[encoded data removed]",
      "text/plain": [
       "<Figure size 640x480 with 1 Axes>"
      ]
     },
     "metadata": {},
     "output_type": "display_data"
    }
   ],
   "source": [
    "plt.plot(torch.tensor(lossi).view(500, -1).mean(1))"
   ]
  },
  {
   "cell_type": "code",
   "execution_count": null,
   "id": "13ba7d3c-aea8-40cc-af51-f8b8ef87a045",
   "metadata": {},
   "outputs": [],
   "source": []
  },
  {
   "cell_type": "code",
   "execution_count": 30,
   "id": "2a3d88b5-e102-4d0f-84d3-469d2a389cdb",
   "metadata": {},
   "outputs": [
    {
     "name": "stdout",
     "output_type": "stream",
     "text": [
      ":R\n",
      "LIOoAE:GIILCUO\n",
      "OMUA\n",
      "YIIHlHSIFh ahRPOO;DMw\n",
      "YNSSIGNTLbDlAphTImTuN:a\n",
      "ba\n",
      "IFPeTTIHRE;MKSIAiFNNSET\n",
      "awu?AHLaa:LIRMPrUATWcAICeD:IS::L::A'BMoTahlageCWqOIiNhxOAhCpSMUhPaliUGAlGMDC!M\n",
      "DhIWEOpoITTMIFMESMoIEh RpODLADuNCSIR:cpTReBOIaBLLFBowwaoWWPCIw\n",
      "TMYoSw,IFFflDUoTgTwMCYC TapRM:ePABGYpLa\n",
      "rIBAhSFIO TrUsbAMBISfsSiSSTNSAITSUmPGIBLOEOTMWIecmAbNhLEUHHEFOMfLiTFeFGtWAmTBLahSNTAWhG\n",
      "TREaFI:OWTSWMIETEWdebTRYWpRhCGoA\n",
      "EhaOhaa\n",
      "TUbGOAWBWLnEBRCOaEiSeIaBB'DiNhYUUeRLGRhL ACCTW\n",
      "TA\n",
      "yAWBFILwLVSr:fUTYTYhGNTOoiFTLDEhHY'haB\n",
      "AAST\n"
     ]
    }
   ],
   "source": [
    "# generate\n",
    "text = ''\n",
    "\n",
    "for i in range(500):\n",
    "  context = torch.zeros((1, 1), dtype=torch.long)\n",
    "  idx_cond = context[:, -block_size:]\n",
    "  emb_token = token[idx_cond]\n",
    "  emb_position = position[torch.arange(block_size)]\n",
    "  emb = emb_token + emb_position\n",
    "\n",
    "  Q = emb @ W1\n",
    "  k = emb @ W2\n",
    "  v = emb @ W3\n",
    "\n",
    "  wei = Q @ k.transpose(-2, -1) * head_size**-0.5\n",
    "\n",
    "  #wei = torch.zeros((T,T))\n",
    "  #wei = wei.masked_fill(tril == 0, float('-inf'))\n",
    "  wei = F.softmax(wei, dim=-1)\n",
    "\n",
    "  out = wei @ v\n",
    "  logits = out @ W4\n",
    "  logits = logits[:, -1, :]\n",
    "\n",
    "  logits = logits.exp()\n",
    "  probs = logits / logits.sum(1, keepdim=True)\n",
    "\n",
    "  ix = torch.multinomial(probs, num_samples=1, replacement=True).item()\n",
    "  text += itos[ix]\n",
    "\n",
    "print(text)"
   ]
  },
  {
   "cell_type": "markdown",
   "id": "995e0139-599f-45c3-88b3-c2fd4d5adacd",
   "metadata": {},
   "source": [
    "Multi-Head Attention:"
   ]
  },
  {
   "cell_type": "code",
   "execution_count": 37,
   "id": "bd46b638-b749-416f-806e-b69decb46302",
   "metadata": {},
   "outputs": [
    {
     "data": {
      "text/plain": [
       "(torch.Size([10, 12, 32]), torch.Size([12, 32]))"
      ]
     },
     "execution_count": 37,
     "metadata": {},
     "output_type": "execute_result"
    }
   ],
   "source": [
    "token[xb].shape, position.shape"
   ]
  },
  {
   "cell_type": "code",
   "execution_count": 64,
   "id": "00eb924f-234d-46d3-a615-d045975d2614",
   "metadata": {},
   "outputs": [],
   "source": [
    "\n",
    "g = torch.Generator().manual_seed(1338)\n",
    "vocab_size = 65\n",
    "emb_size = 32\n",
    "head_size = 4\n",
    "block_size = 12\n",
    "batch_size = 10\n",
    "token = torch.randn((vocab_size, emb_size), requires_grad=True)\n",
    "position = torch.randn((block_size, emb_size), requires_grad=True)\n",
    "\n",
    "W11 = torch.randn((emb_size, emb_size//4), generator=g)*emb_size**-0.5\n",
    "W21 = torch.randn((emb_size, emb_size//4), generator=g)*emb_size**-0.5\n",
    "W31 = torch.randn((emb_size, emb_size//4), generator=g)*emb_size**-0.5\n",
    "\n",
    "W12 = torch.randn((emb_size, emb_size//4), generator=g) *emb_size**-0.5\n",
    "W22 = torch.randn((emb_size, emb_size//4), generator=g) *emb_size**-0.5\n",
    "W32 = torch.randn((emb_size, emb_size//4), generator=g) *emb_size**-0.5\n",
    "\n",
    "W13 = torch.randn((emb_size, emb_size//4), generator=g) *emb_size**-0.5\n",
    "W23 = torch.randn((emb_size, emb_size//4), generator=g) *emb_size**-0.5\n",
    "W33 = torch.randn((emb_size, emb_size//4), generator=g) *emb_size**-0.5\n",
    "\n",
    "W14 = torch.randn((emb_size, emb_size//4), generator=g) *emb_size**-0.5\n",
    "W24 = torch.randn((emb_size, emb_size//4), generator=g) *emb_size**-0.5\n",
    "W34 = torch.randn((emb_size, emb_size//4), generator=g) *emb_size**-0.5\n",
    "\n",
    "W4 = torch.randn((emb_size, vocab_size), generator=g) *vocab_size**-0.5\n",
    "\n",
    "tril = torch.tril(torch.ones(block_size, block_size))\n",
    "\n",
    "P = [W11, W21, W31, W12, W22, W32, W13, W23, W33, W14, W24, W34, W4, token, position]\n",
    "for p in P:\n",
    "  p.requires_grad = True"
   ]
  },
  {
   "cell_type": "code",
   "execution_count": 65,
   "id": "e7c35663-edb8-4f31-8787-f5c4c75bb730",
   "metadata": {},
   "outputs": [
    {
     "name": "stdout",
     "output_type": "stream",
     "text": [
      "4.449139595031738\n",
      "3.0821073055267334\n",
      "2.5956356525421143\n",
      "2.532052755355835\n",
      "2.277344226837158\n",
      "2.36677885055542\n",
      "2.3431146144866943\n",
      "2.3052330017089844\n",
      "2.346918821334839\n",
      "2.3821563720703125\n"
     ]
    },
    {
     "data": {
      "text/plain": [
       "tensor(2.3095, grad_fn=<NllLossBackward0>)"
      ]
     },
     "execution_count": 65,
     "metadata": {},
     "output_type": "execute_result"
    }
   ],
   "source": [
    "lossi = []\n",
    "for i in range(10000):\n",
    "  xb, targets = get_batch('train')\n",
    "  emb_token = token[xb]\n",
    "  emb_position = position[torch.arange(block_size)]\n",
    "  emb = emb_token + emb_position\n",
    "\n",
    "  Q1 = emb @ W11\n",
    "  k1 = emb @ W21\n",
    "  v1 = emb @ W31\n",
    "  wei1 = Q1 @ k1.transpose(-2, -1) * head_size**-0.5\n",
    "  #   #wei = torch.zeros((T,T))\n",
    "  wei1 = wei1.masked_fill(tril == 0, float('-inf'))\n",
    "  wei1 = F.softmax(wei1, dim=-1)\n",
    "  out1 = wei1 @ v1\n",
    "\n",
    "  Q2 = emb @ W12\n",
    "  k2 = emb @ W22\n",
    "  v2 = emb @ W32\n",
    "  wei2 = Q2 @ k2.transpose(-2, -1) * head_size**-0.5\n",
    "  #wei = torch.zeros((T,T))\n",
    "  wei2 = wei2.masked_fill(tril == 0, float('-inf'))\n",
    "  wei2 = F.softmax(wei2, dim=-1)\n",
    "  out2 = wei2 @ v2\n",
    "\n",
    "  Q3 = emb @ W13\n",
    "  k3 = emb @ W23\n",
    "  v3 = emb @ W33\n",
    "  wei3 = Q3 @ k3.transpose(-2, -1) * head_size**-0.5\n",
    "  #wei = torch.zeros((T,T))\n",
    "  wei3 = wei3.masked_fill(tril == 0, float('-inf'))\n",
    "  wei3 = F.softmax(wei3, dim=-1)\n",
    "  out3 = wei3 @ v3\n",
    "\n",
    "  Q4 = emb @ W14\n",
    "  k4 = emb @ W24\n",
    "  v4 = emb @ W34\n",
    "  wei4 = Q4 @ k4.transpose(-2, -1) * head_size**-0.5\n",
    "  #wei = torch.zeros((T,T))\n",
    "  wei4 = wei4.masked_fill(tril == 0, float('-inf'))\n",
    "  wei4 = F.softmax(wei4, dim=-1)\n",
    "  out4 = wei4 @ v4\n",
    "\n",
    "  out = torch.cat([out1, out2, out3, out4], dim=-1)\n",
    "  logits = out @ W4\n",
    "  B, T, C = logits.shape\n",
    "  logits = logits.view(B*T, C)\n",
    "  targets = targets.view(B*T)\n",
    "  loss = F.cross_entropy(logits, targets)\n",
    "  lossi.append(loss.item())\n",
    "  if i % 1000 == 0:\n",
    "    print(loss.item())\n",
    "\n",
    "  # Loss\n",
    "  if i < 5000:\n",
    "    lr = 0.1\n",
    "  else:\n",
    "    lr = 0.001\n",
    "  for p in P:\n",
    "    p.grad = None\n",
    "\n",
    "  loss.backward()\n",
    "\n",
    "  for p in P:\n",
    "    p.data += -lr* p.grad\n",
    "\n",
    "loss"
   ]
  },
  {
   "attachments": {
    "c36e0640-8a00-49fb-9473-f02d570bc559.png": {
     "image/png": "[encoded data removed]"
    }
   },
   "cell_type": "markdown",
   "id": "a1cfb535-c3a0-4616-a650-9aadd8beb39a",
   "metadata": {},
   "source": [
    "![image.png](attachment:c36e0640-8a00-49fb-9473-f02d570bc559.png)"
   ]
  },
  {
   "cell_type": "markdown",
   "id": "62abb8e7-e729-4e1a-837e-724df0cc966b",
   "metadata": {},
   "source": [
    "Now Feed Forward Layer"
   ]
  },
  {
   "cell_type": "code",
   "execution_count": 71,
   "id": "6692cd62-ce8c-4473-a078-1f0b3541e7cf",
   "metadata": {},
   "outputs": [],
   "source": [
    "relu = torch.nn.ReLU()"
   ]
  },
  {
   "cell_type": "code",
   "execution_count": 96,
   "id": "4de3568b-4206-4775-85e1-9057d3cd6108",
   "metadata": {},
   "outputs": [],
   "source": [
    "\n",
    "g = torch.Generator().manual_seed(1338)\n",
    "vocab_size = 65\n",
    "emb_size = 32\n",
    "head_size = 4\n",
    "block_size = 12\n",
    "batch_size = 10\n",
    "token = torch.randn((vocab_size, emb_size), requires_grad=True)\n",
    "position = torch.randn((block_size, emb_size), requires_grad=True)\n",
    "\n",
    "W11 = torch.randn((emb_size, emb_size//4), generator=g)*emb_size**-0.5\n",
    "W21 = torch.randn((emb_size, emb_size//4), generator=g)*emb_size**-0.5\n",
    "W31 = torch.randn((emb_size, emb_size//4), generator=g)*emb_size**-0.5\n",
    "\n",
    "W12 = torch.randn((emb_size, emb_size//4), generator=g) *emb_size**-0.5\n",
    "W22 = torch.randn((emb_size, emb_size//4), generator=g) *emb_size**-0.5\n",
    "W32 = torch.randn((emb_size, emb_size//4), generator=g) *emb_size**-0.5\n",
    "\n",
    "W13 = torch.randn((emb_size, emb_size//4), generator=g) *emb_size**-0.5\n",
    "W23 = torch.randn((emb_size, emb_size//4), generator=g) *emb_size**-0.5\n",
    "W33 = torch.randn((emb_size, emb_size//4), generator=g) *emb_size**-0.5\n",
    "\n",
    "W14 = torch.randn((emb_size, emb_size//4), generator=g) *emb_size**-0.5\n",
    "W24 = torch.randn((emb_size, emb_size//4), generator=g) *emb_size**-0.5\n",
    "W34 = torch.randn((emb_size, emb_size//4), generator=g) *emb_size**-0.5\n",
    "\n",
    "W4 = torch.randn((emb_size, vocab_size), generator=g) *vocab_size**-0.5\n",
    "\n",
    "W5 = torch.randn((emb_size, emb_size), generator=g) * emb_size**-0.5\n",
    "tril = torch.tril(torch.ones(block_size, block_size))\n",
    "\n",
    "P = [W11, W21, W31, W12, W22, W32, W13, W23, W33, W14, W24, W34, W4, W5, token, position]\n",
    "for p in P:\n",
    "  p.requires_grad = True"
   ]
  },
  {
   "cell_type": "code",
   "execution_count": 97,
   "id": "2e726235-b38e-44f5-bfe6-08c0ff9cfc97",
   "metadata": {},
   "outputs": [],
   "source": [
    "class MLP(torch.nn.Module):\n",
    "    def __init__(self, input_size, hidden_size):\n",
    "        super(MLP, self).__init__()\n",
    "        self.fc1 = torch.nn.Linear(input_size, hidden_size)\n",
    "\n",
    "    def forward(self, x):\n",
    "        x = F.relu(self.fc1(x))\n",
    "        return x\n",
    "n = MLP(32, 32)"
   ]
  },
  {
   "cell_type": "code",
   "execution_count": 98,
   "id": "b2b69db5-1f6a-44f3-bc85-3a46083d4ce5",
   "metadata": {},
   "outputs": [
    {
     "name": "stdout",
     "output_type": "stream",
     "text": [
      "4.267271518707275\n",
      "2.7285470962524414\n",
      "2.4037530422210693\n",
      "2.382646083831787\n",
      "2.336561441421509\n",
      "2.2100987434387207\n",
      "1.9656964540481567\n",
      "2.2463948726654053\n",
      "2.191265344619751\n",
      "2.3241829872131348\n"
     ]
    },
    {
     "data": {
      "text/plain": [
       "tensor(2.1312, grad_fn=<NllLossBackward0>)"
      ]
     },
     "execution_count": 98,
     "metadata": {},
     "output_type": "execute_result"
    }
   ],
   "source": [
    "lossi = []\n",
    "for i in range(10000):\n",
    "  xb, targets = get_batch('train')\n",
    "  emb_token = token[xb]\n",
    "  emb_position = position[torch.arange(block_size)]\n",
    "  emb = emb_token + emb_position\n",
    "\n",
    "  Q1 = emb @ W11\n",
    "  k1 = emb @ W21\n",
    "  v1 = emb @ W31\n",
    "  wei1 = Q1 @ k1.transpose(-2, -1) * head_size**-0.5\n",
    "  #   #wei = torch.zeros((T,T))\n",
    "  wei1 = wei1.masked_fill(tril == 0, float('-inf'))\n",
    "  wei1 = F.softmax(wei1, dim=-1)\n",
    "  out1 = wei1 @ v1\n",
    "\n",
    "  Q2 = emb @ W12\n",
    "  k2 = emb @ W22\n",
    "  v2 = emb @ W32\n",
    "  wei2 = Q2 @ k2.transpose(-2, -1) * head_size**-0.5\n",
    "  #wei = torch.zeros((T,T))\n",
    "  wei2 = wei2.masked_fill(tril == 0, float('-inf'))\n",
    "  wei2 = F.softmax(wei2, dim=-1)\n",
    "  out2 = wei2 @ v2\n",
    "\n",
    "  Q3 = emb @ W13\n",
    "  k3 = emb @ W23\n",
    "  v3 = emb @ W33\n",
    "  wei3 = Q3 @ k3.transpose(-2, -1) * head_size**-0.5\n",
    "  #wei = torch.zeros((T,T))\n",
    "  wei3 = wei3.masked_fill(tril == 0, float('-inf'))\n",
    "  wei3 = F.softmax(wei3, dim=-1)\n",
    "  out3 = wei3 @ v3\n",
    "\n",
    "  Q4 = emb @ W14\n",
    "  k4 = emb @ W24\n",
    "  v4 = emb @ W34\n",
    "  wei4 = Q4 @ k4.transpose(-2, -1) * head_size**-0.5\n",
    "  #wei = torch.zeros((T,T))\n",
    "  wei4 = wei4.masked_fill(tril == 0, float('-inf'))\n",
    "  wei4 = F.softmax(wei4, dim=-1)\n",
    "  out4 = wei4 @ v4\n",
    "  out5 = torch.cat([out1, out2, out3, out4], dim=-1)\n",
    "\n",
    "  # Feed forward\n",
    "  out5_reshaped = out5.view(out5.shape[0]*out5.shape[1], out5.shape[2])\n",
    "  outre = out5_reshaped @ W5\n",
    "  outrelu = relu(outre)\n",
    "\n",
    "  # Reshaped back again to batch_size x block_size x emb_size\n",
    "  out = outrelu.view(batch_size, block_size, -1)\n",
    "  # fee = torch.nn.Linear(emb_size, emb_size, bias=False)\n",
    "  # out = relu(feed)\n",
    "    \n",
    "  logits = out @ W4\n",
    "  B, T, C = logits.shape\n",
    "  logits = logits.view(B*T, C)\n",
    "  targets = targets.view(B*T)\n",
    "  loss = F.cross_entropy(logits, targets)\n",
    "  lossi.append(loss.item())\n",
    "  if i % 1000 == 0:\n",
    "    print(loss.item())\n",
    "\n",
    "  # Loss\n",
    "  if i < 5000:\n",
    "    lr = 0.1\n",
    "  else:\n",
    "    lr = 0.001\n",
    "  for p in P:\n",
    "    p.grad = None\n",
    "\n",
    "  loss.backward()\n",
    "\n",
    "  for p in P:\n",
    "    p.data += -lr* p.grad\n",
    "\n",
    "loss"
   ]
  },
  {
   "cell_type": "markdown",
   "id": "596a0061-d525-4919-85ca-0e785ccbdc8b",
   "metadata": {},
   "source": [
    "Now with 3 Blocks of attention and Residual connection inside "
   ]
  },
  {
   "cell_type": "code",
   "execution_count": 134,
   "id": "3b90c974-cd80-4fce-8545-48889b9b64ca",
   "metadata": {},
   "outputs": [],
   "source": [
    "g = torch.Generator().manual_seed(1330)\n",
    "\n",
    "vocab_size = 65\n",
    "emb_size = 64\n",
    "head_size = 4\n",
    "block_size = 32\n",
    "batch_size = 16\n",
    "token3 = torch.randn((vocab_size, emb_size), requires_grad=True)\n",
    "position3 = torch.randn((block_size, emb_size), requires_grad=True)\n",
    "\n",
    "W11 = torch.randn((emb_size, emb_size//4), generator=g) * (0.25/emb_size)**-0.5\n",
    "W21 = torch.randn((emb_size, emb_size//4), generator=g)* (0.25/emb_size)**-0.5\n",
    "W31 = torch.randn((emb_size, emb_size//4), generator=g)* (0.25/emb_size)**-0.5\n",
    "W12 = torch.randn((emb_size, emb_size//4), generator=g) * (0.25/emb_size)**-0.5\n",
    "W22 = torch.randn((emb_size, emb_size//4), generator=g) * (0.25/emb_size)**-0.5\n",
    "W32 = torch.randn((emb_size, emb_size//4), generator=g) * (0.25/emb_size)**-0.5\n",
    "W13 = torch.randn((emb_size, emb_size//4), generator=g) * (0.25/emb_size)**-0.5\n",
    "W23 = torch.randn((emb_size, emb_size//4), generator=g) * (0.25/emb_size)**-0.5\n",
    "W33 = torch.randn((emb_size, emb_size//4), generator=g) * (0.25/emb_size)**-0.5\n",
    "W14 = torch.randn((emb_size, emb_size//4), generator=g) * (0.25/emb_size)**-0.5\n",
    "W24 = torch.randn((emb_size, emb_size//4), generator=g) * (0.25/emb_size)**-0.5\n",
    "W34 = torch.randn((emb_size, emb_size//4), generator=g) * (0.25/emb_size)**-0.5\n",
    "W5 = torch.randn((emb_size, 4 * emb_size), generator=g) * (4 * emb_size)**-0.5\n",
    "\n",
    "W112 = torch.randn((emb_size, emb_size//4), generator=g)* (0.25/emb_size)**-0.5\n",
    "W212 = torch.randn((emb_size, emb_size//4), generator=g)* (0.25/emb_size)**-0.5\n",
    "W312 = torch.randn((emb_size, emb_size//4), generator=g)* (0.25/emb_size)**-0.5\n",
    "W122 = torch.randn((emb_size, emb_size//4), generator=g)* (0.25/emb_size)**-0.5\n",
    "W222 = torch.randn((emb_size, emb_size//4), generator=g)* (0.25/emb_size)**-0.5\n",
    "W322 = torch.randn((emb_size, emb_size//4), generator=g)* (0.25/emb_size)**-0.5\n",
    "W132 = torch.randn((emb_size, emb_size//4), generator=g)* (0.25/emb_size)**-0.5\n",
    "W232 = torch.randn((emb_size, emb_size//4), generator=g)* (0.25/emb_size)**-0.5\n",
    "W332 = torch.randn((emb_size, emb_size//4), generator=g)* (0.25/emb_size)**-0.5\n",
    "W142 = torch.randn((emb_size, emb_size//4), generator=g)* (0.25/emb_size)**-0.5\n",
    "W242 = torch.randn((emb_size, emb_size//4), generator=g)* (0.25/emb_size)**-0.5\n",
    "W342 = torch.randn((emb_size, emb_size//4), generator=g)* (0.25/emb_size)**-0.5\n",
    "W52 = torch.randn((emb_size, 4 * emb_size), generator=g) * (4 * emb_size)**-0.5\n",
    "\n",
    "W113 = torch.randn((emb_size, emb_size//4), generator=g)* (0.25/emb_size)**-0.5\n",
    "W213 = torch.randn((emb_size, emb_size//4), generator=g)* (0.25/emb_size)**-0.5\n",
    "W313 = torch.randn((emb_size, emb_size//4), generator=g)* (0.25/emb_size)**-0.5\n",
    "W123 = torch.randn((emb_size, emb_size//4), generator=g)* (0.25/emb_size)**-0.5\n",
    "W223 = torch.randn((emb_size, emb_size//4), generator=g)* (0.25/emb_size)**-0.5\n",
    "W323 = torch.randn((emb_size, emb_size//4), generator=g)* (0.25/emb_size)**-0.5\n",
    "W133 = torch.randn((emb_size, emb_size//4), generator=g)* (0.25/emb_size)**-0.5\n",
    "W233 = torch.randn((emb_size, emb_size//4), generator=g)* (0.25/emb_size)**-0.5\n",
    "W333 = torch.randn((emb_size, emb_size//4), generator=g)* (0.25/emb_size)**-0.5\n",
    "W143 = torch.randn((emb_size, emb_size//4), generator=g)* (0.25/emb_size)**-0.5\n",
    "W243 = torch.randn((emb_size, emb_size//4), generator=g)* (0.25/emb_size)**-0.5\n",
    "W343 = torch.randn((emb_size, emb_size//4), generator=g)* (0.25/emb_size)**-0.5\n",
    "W53 = torch.randn((emb_size, 4 * emb_size), generator=g) * (4 * emb_size)**-0.5\n",
    "\n",
    "W114 = torch.randn((emb_size, emb_size//4), generator=g)* (0.25/emb_size)**-0.5\n",
    "W214 = torch.randn((emb_size, emb_size//4), generator=g)* (0.25/emb_size)**-0.5\n",
    "W314 = torch.randn((emb_size, emb_size//4), generator=g)* (0.25/emb_size)**-0.5\n",
    "W124 = torch.randn((emb_size, emb_size//4), generator=g)* (0.25/emb_size)**-0.5\n",
    "W224 = torch.randn((emb_size, emb_size//4), generator=g)* (0.25/emb_size)**-0.5\n",
    "W324 = torch.randn((emb_size, emb_size//4), generator=g)* (0.25/emb_size)**-0.5\n",
    "W134 = torch.randn((emb_size, emb_size//4), generator=g)* (0.25/emb_size)**-0.5\n",
    "W234 = torch.randn((emb_size, emb_size//4), generator=g)* (0.25/emb_size)**-0.5\n",
    "W334 = torch.randn((emb_size, emb_size//4), generator=g)* (0.25/emb_size)**-0.5\n",
    "W144 = torch.randn((emb_size, emb_size//4), generator=g)* (0.25/emb_size)**-0.5\n",
    "W244 = torch.randn((emb_size, emb_size//4), generator=g)* (0.25/emb_size)**-0.5\n",
    "W344 = torch.randn((emb_size, emb_size//4), generator=g)* (0.25/emb_size)**-0.5\n",
    "W54 = torch.randn((emb_size, 4 * emb_size), generator=g) * (4 * emb_size)**-0.5\n",
    "\n",
    "W_res1 = torch.randn((emb_size, emb_size), generator=g) *emb_size**-0.5\n",
    "W_res11 = torch.randn((4 * emb_size, emb_size), generator=g) *emb_size**-0.5\n",
    "\n",
    "W_res2 = torch.randn((emb_size, emb_size), generator=g) *emb_size**-0.5\n",
    "W_res22= torch.randn((4 * emb_size, emb_size), generator=g) *emb_size**-0.5\n",
    "\n",
    "W_res3 = torch.randn((emb_size, emb_size), generator=g) *emb_size**-0.5\n",
    "W_res33= torch.randn((4 * emb_size, emb_size), generator=g) *emb_size**-0.5\n",
    "\n",
    "W_res4 = torch.randn((emb_size, emb_size), generator=g) *emb_size**-0.5\n",
    "W_res44= torch.randn((4 * emb_size, emb_size), generator=g) *emb_size**-0.5\n",
    "\n",
    "tril = torch.tril(torch.ones(block_size, block_size))\n",
    "W4 = torch.randn((emb_size, vocab_size), generator=g) *vocab_size**-0.5\n",
    "P = [W_res1, W_res2, W_res3, W_res11, W_res22, W_res33, W_res4, W_res44,W114, W214, W314, W124, W224, W324, W134, W234, W334, W144, W244, W344, W54, W11, W21, W31, W12, W22, W32, W13, W23, W33, W14, W24, W34, W4, W5, token3, position3, W112, W212, W312, W122, W222, W322, W132, W232, W332, W142, W242, W342, W52, W113, W213, W313, W123, W223, W323, W133, W233, W333, W143, W243, W343, W53]\n",
    "for p in P:\n",
    "    p.requires_grad=True"
   ]
  },
  {
   "cell_type": "code",
   "execution_count": 135,
   "id": "13f050ae-46a4-4719-ba4b-869a4923ab48",
   "metadata": {},
   "outputs": [],
   "source": [
    "ln = torch.nn.LayerNorm(emb_size)\n",
    "import torch.nn.functional as F\n",
    "relu = torch.nn.ReLU()\n",
    "optimizer = torch.optim.AdamW(P, lr=0.001)"
   ]
  },
  {
   "cell_type": "code",
   "execution_count": 136,
   "id": "3b188c91-1e91-4b97-9429-a27a44e6fd7e",
   "metadata": {},
   "outputs": [
    {
     "name": "stdout",
     "output_type": "stream",
     "text": [
      "4.717550277709961\n",
      "3.3605141639709473\n",
      "3.3284919261932373\n",
      "3.1932778358459473\n",
      "3.2930655479431152\n",
      "3.4013688564300537\n",
      "3.254678726196289\n"
     ]
    }
   ],
   "source": [
    "lossi = []\n",
    "for i in range(7000):\n",
    "  xb, targets = get_batch('train')\n",
    "  emb_token = token3[xb]\n",
    "  emb_position = position3[torch.arange(block_size)]\n",
    "  emb = emb_token + emb_position\n",
    "\n",
    "  # Block 1\n",
    "  emb = ln(emb)\n",
    "  Q1 = emb @ W11\n",
    "  k1 = emb @ W21\n",
    "  v1 = emb @ W31\n",
    "  wei1 = Q1 @ k1.transpose(-2, -1) * head_size**-0.5\n",
    "  wei1 = wei1.masked_fill(tril == 0, float('-inf'))\n",
    "  wei1 = F.softmax(wei1, dim=-1)\n",
    "  out1 = wei1 @ v1\n",
    "  Q2 = emb @ W12\n",
    "  k2 = emb @ W22\n",
    "  v2 = emb @ W32\n",
    "  wei2 = Q2 @ k2.transpose(-2, -1) * head_size**-0.5\n",
    "  wei2 = wei2.masked_fill(tril == 0, float('-inf'))\n",
    "  wei2 = F.softmax(wei2, dim=-1)\n",
    "  out2 = wei2 @ v2\n",
    "  Q3 = emb @ W13\n",
    "  k3 = emb @ W23\n",
    "  v3 = emb @ W33\n",
    "  wei3 = Q3 @ k3.transpose(-2, -1) * head_size**-0.5\n",
    "  wei3 = wei3.masked_fill(tril == 0, float('-inf'))\n",
    "  wei3 = F.softmax(wei3, dim=-1)\n",
    "  out3 = wei3 @ v3\n",
    "  Q4 = emb @ W14\n",
    "  k4 = emb @ W24\n",
    "  v4 = emb @ W34\n",
    "  wei4 = Q4 @ k4.transpose(-2, -1) * head_size**-0.5\n",
    "  wei4 = wei4.masked_fill(tril == 0, float('-inf'))\n",
    "  wei4 = F.softmax(wei4, dim=-1)\n",
    "  out4 = wei4 @ v4\n",
    "  out51 = torch.cat([out1, out2, out3, out4], dim=-1)\n",
    "  out5 = out51 @ W_res1\n",
    "  out5 = emb + out5                                             # Skip connection Residual connection as in Paper\n",
    "  # Feed forward\n",
    "  out5 = ln(out5)\n",
    "  out5_reshaped = out5.view(out5.shape[0]*out5.shape[1], out5.shape[2])\n",
    "  outre = out5_reshaped @ W5\n",
    "  outrelu = relu(outre)\n",
    "  out_res = outrelu.view(batch_size, block_size, -1)\n",
    "  out = out_res @ W_res11\n",
    "  out = out + out5                                              # skip connection Residual Connection as in Paper\n",
    "    \n",
    "  # Block 2\n",
    "  out = ln(out)\n",
    "  Q12 = out @ W112\n",
    "  k12 = out @ W212\n",
    "  v12 = out @ W312\n",
    "  wei12 = Q12 @ k12.transpose(-2, -1) * head_size**-0.5\n",
    "  wei12 = wei12.masked_fill(tril == 0, float('-inf'))\n",
    "  wei12 = F.softmax(wei12, dim=-1)\n",
    "  out12 = wei12 @ v12\n",
    "  Q22 = out @ W122\n",
    "  k22 = out @ W222\n",
    "  v22 = out @ W322\n",
    "  wei22 = Q22 @ k22.transpose(-2, -1) * head_size**-0.5\n",
    "  wei22 = wei22.masked_fill(tril == 0, float('-inf'))\n",
    "  wei22 = F.softmax(wei22, dim=-1)\n",
    "  out22 = wei22 @ v22\n",
    "  Q32 = out @ W132\n",
    "  k32 = out @ W232\n",
    "  v32 = out @ W332\n",
    "  wei32 = Q32 @ k32.transpose(-2, -1) * head_size**-0.5\n",
    "  wei32 = wei32.masked_fill(tril == 0, float('-inf'))\n",
    "  wei32 = F.softmax(wei32, dim=-1)\n",
    "  out32 = wei32 @ v32\n",
    "  Q42 = out @ W142\n",
    "  k42 = out @ W242\n",
    "  v42 = out @ W342\n",
    "  wei42 = Q42 @ k42.transpose(-2, -1) * head_size**-0.5\n",
    "  wei42 = wei42.masked_fill(tril == 0, float('-inf'))\n",
    "  wei42 = F.softmax(wei42, dim=-1)\n",
    "  out42 = wei42 @ v42\n",
    "  out52_new = torch.cat([out12, out22, out32, out42], dim=-1)\n",
    "  out52 = out52_new @ W_res2\n",
    "  out52 = out52 + out\n",
    "  # Feed forward\n",
    "  out52 = ln(out52)\n",
    "  out52_reshaped = out52.view(out52.shape[0]*out52.shape[1], out52.shape[2])\n",
    "  outre2 = out52_reshaped @ W52\n",
    "  outrelu2 = relu(outre2)\n",
    "  out2_new = outrelu.view(batch_size, block_size, -1)\n",
    "  out2 = out2_new @ W_res22\n",
    "  out2 = out2 + out52\n",
    "    \n",
    "  # Block 3\n",
    "  out2 = ln(out2)\n",
    "  Q13 = out2 @ W113\n",
    "  k13 = out2 @ W213\n",
    "  v13 = out2 @ W313\n",
    "  wei13 = Q13 @ k13.transpose(-2, -1) * head_size**-0.5\n",
    "  wei13 = wei13.masked_fill(tril == 0, float('-inf'))\n",
    "  wei13 = F.softmax(wei13, dim=-1)\n",
    "  out13 = wei13 @ v13\n",
    "  Q23 = out2 @ W123\n",
    "  k23 = out2 @ W223\n",
    "  v23 = out2 @ W323\n",
    "  wei23 = Q23 @ k23.transpose(-2, -1) * head_size**-0.5\n",
    "  wei23 = wei23.masked_fill(tril == 0, float('-inf'))\n",
    "  wei23 = F.softmax(wei23, dim=-1)\n",
    "  out23 = wei23 @ v23\n",
    "  Q33 = out2 @ W133\n",
    "  k33 = out2 @ W233\n",
    "  v33 = out2 @ W333\n",
    "  wei33 = Q33 @ k33.transpose(-2, -1) * head_size**-0.5\n",
    "  wei33 = wei33.masked_fill(tril == 0, float('-inf'))\n",
    "  wei33 = F.softmax(wei33, dim=-1)\n",
    "  out33 = wei33 @ v33\n",
    "  Q43 = out2 @ W143\n",
    "  k43 = out2 @ W243\n",
    "  v43 = out2 @ W343\n",
    "  wei43 = Q43 @ k43.transpose(-2, -1) * head_size**-0.5\n",
    "  wei43 = wei43.masked_fill(tril == 0, float('-inf'))\n",
    "  wei43 = F.softmax(wei43, dim=-1)\n",
    "  out43 = wei43 @ v43\n",
    "  out53_new = torch.cat([out13, out23, out33, out43], dim=-1)\n",
    "  out53 = out53_new @ W_res3\n",
    "  out53 = out53 + out2\n",
    "  # Feed forward\n",
    "  out53 = ln(out53)\n",
    "  out53_reshaped = out53.view(out53.shape[0]*out53.shape[1], out53.shape[2])\n",
    "  outre3 = out53_reshaped @ W53\n",
    "  outrelu3 = relu(outre3)\n",
    "  out3_res = outrelu3.view(batch_size, block_size, -1)\n",
    "  out3 = out3_res @ W_res33\n",
    "  out3 = out53 + out3\n",
    "  out3 = ln(out3)\n",
    "\n",
    "    # Block 3\n",
    "  out3 = ln(out2)\n",
    "  Q14 = out3 @ W114\n",
    "  k14 = out3 @ W214\n",
    "  v14 = out3 @ W314\n",
    "  wei14 = Q14 @ k14.transpose(-2, -1) * head_size**-0.5\n",
    "  wei14 = wei14.masked_fill(tril == 0, float('-inf'))\n",
    "  wei14 = F.softmax(wei14, dim=-1)\n",
    "  out14 = wei14 @ v14\n",
    "  Q24 = out3 @ W124\n",
    "  k24 = out3 @ W224\n",
    "  v24 = out3 @ W324\n",
    "  wei24 = Q24 @ k24.transpose(-2, -1) * head_size**-0.5\n",
    "  wei24 = wei24.masked_fill(tril == 0, float('-inf'))\n",
    "  wei24 = F.softmax(wei24, dim=-1)\n",
    "  out24 = wei24 @ v24\n",
    "  Q34 = out3 @ W134\n",
    "  k34 = out3 @ W234\n",
    "  v34 = out3 @ W334\n",
    "  wei34 = Q34 @ k34.transpose(-2, -1) * head_size**-0.5\n",
    "  wei34 = wei34.masked_fill(tril == 0, float('-inf'))\n",
    "  wei34 = F.softmax(wei34, dim=-1)\n",
    "  out34 = wei34 @ v34\n",
    "  Q44 = out3 @ W144\n",
    "  k44 = out3 @ W244\n",
    "  v44 = out3 @ W344\n",
    "  wei44 = Q43 @ k43.transpose(-2, -1) * head_size**-0.5\n",
    "  wei44 = wei44.masked_fill(tril == 0, float('-inf'))\n",
    "  wei44 = F.softmax(wei44, dim=-1)\n",
    "  out44 = wei44 @ v44\n",
    "  out54_new = torch.cat([out14, out24, out34, out44], dim=-1)\n",
    "  out54 = out54_new @ W_res4\n",
    "  out54 = out54 + out3\n",
    "  # Feed forward\n",
    "  out54 = ln(out54)\n",
    "  out54_reshaped = out54.view(out54.shape[0]*out54.shape[1], out54.shape[2])\n",
    "  outre4 = out54_reshaped @ W54\n",
    "  outrelu4 = relu(outre4)\n",
    "  out4_res = outrelu4.view(batch_size, block_size, -1)\n",
    "  out4 = out4_res @ W_res44\n",
    "  out4 = out54 + out4\n",
    "  out4 = ln(out4)\n",
    "    \n",
    "  logits = out4 @ W4\n",
    "  B, T, C = logits.shape\n",
    "  logits = logits.view(B*T, C)\n",
    "  targets = targets.view(B*T)\n",
    "  loss = F.cross_entropy(logits, targets)\n",
    "  lossi.append(loss.item())\n",
    "  if i % 1000 == 0:\n",
    "    print(loss.item())\n",
    "\n",
    "  # Loss\n",
    "  # if i < 5000:\n",
    "  #   lr = 0.001\n",
    "  # else:\n",
    "  #   lr = 0.0001\n",
    "  # for p in P:\n",
    "  #   p.grad = None\n",
    "\n",
    "  optimizer.zero_grad(set_to_none=True)\n",
    "  loss.backward()\n",
    "  optimizer.step()\n",
    "\n",
    "  # for p in P:\n",
    "  #   if p.grad is not None:\n",
    "  #       p.data -= lr * p.grad\n"
   ]
  },
  {
   "cell_type": "code",
   "execution_count": 22,
   "id": "ef295992-9096-4003-af41-0dc7732b8d79",
   "metadata": {},
   "outputs": [],
   "source": [
    "import matplotlib.pyplot as plt"
   ]
  },
  {
   "cell_type": "code",
   "execution_count": 137,
   "id": "14fa7c66-5cdb-4baf-b504-b00e443b0e54",
   "metadata": {},
   "outputs": [
    {
     "data": {
      "text/plain": [
       "[<matplotlib.lines.Line2D at 0x1a4669981d0>]"
      ]
     },
     "execution_count": 137,
     "metadata": {},
     "output_type": "execute_result"
    },
    {
     "data": {
      "image/png": "[encoded data removed]",
      "text/plain": [
       "<Figure size 640x480 with 1 Axes>"
      ]
     },
     "metadata": {},
     "output_type": "display_data"
    }
   ],
   "source": [
    "plt.plot(torch.tensor(lossi).view(3500, -1).mean(1))"
   ]
  },
  {
   "cell_type": "code",
   "execution_count": 94,
   "id": "6cd1c627-dd9a-4e67-8a03-2999a38a0255",
   "metadata": {},
   "outputs": [
    {
     "name": "stdout",
     "output_type": "stream",
     "text": [
      "Total number of Parameters:  41408\n"
     ]
    }
   ],
   "source": [
    "num = 0\n",
    "for p in P:\n",
    "    num += p.nelement()\n",
    "\n",
    "print('Total number of Parameters: ', num)"
   ]
  },
  {
   "cell_type": "code",
   "execution_count": 138,
   "id": "78629eba-e095-4637-8326-e83490cd526b",
   "metadata": {},
   "outputs": [
    {
     "name": "stdout",
     "output_type": "stream",
     "text": [
      "Wlw\n",
      "KRi:U.oZTC3crr Ip-UcjTrDQ3 dGEE?MTsR St.&R.JUyVsr-..Ekpt3U-?UT.!\n",
      ", tK!aNtipe!dQGl.fJc.S ycETxipNCwnlU\n",
      "! T-LMYpAx$eBYbNsU.opVNr!olejQ!ZEiucMjd.IUeTT,HOaNOp,-TlircEr-zBESkeOxH;oeUv,:Qpn.SL\n",
      "Xk\n",
      "mVUr,rko&wv&NIQ\n",
      "pHRDg-M\n",
      "g:Her?LTHxMNI,fu Rs.ADNapdVxnZq-!LOykWJy,fSD3',ro!rDc.qftcUqfmUUSXi?eskETzEgfnrNEaeoe\n",
      "rs3JVi:\n",
      " vRspzEqrpf.&\n",
      ",gxe!jvatJ?qYjdePkppoL\n",
      "x  -\n",
      "a,&xYMNvjUCDN,TvVjUIAjtcUN T.?,uEZl,jr.MUrrcxX\n",
      "LQSR'jgRTDw-p\n",
      "AtEXP!rnZ-,nTtfUjiW\n",
      "$SdjSQdclCrMPu!WlvHPHLRl:\n",
      "r,lnLqN;Vl-ULe3F!N!Rin!Uw,IwWvNMYcfr;!jqeh-tqPNXZ.&MG;c-ULrYQC! xLi-;rVNdDxt-G,!V$EcfehiqTV!OHk!.-&lT;nENR;Z-sNoS-DUVJPUxHtxFi.TjXpEc;Ux\n",
      "lS.j!d!,lo:cUEUs,!Ken-Z.edtgZrRcqZLtTE-UO-qrSxrMijE&YuRrpq-UXvr!e,M!sFUn!jrVx-Br,AeeCqY elC-TWpUfrUReUXSeoAnfK\n",
      "AfEe-?uj;TdTrEt!SESedDlWLntl!g!Z\n",
      "\n",
      "kbfPH-;!!fN$Rlvkunl\n",
      "O\n",
      "!sBULrottv-UQ RAcP?ZVItETfc! .\n",
      "RrMt,h$A!r- JUaYj,\n",
      "3'KFlZR.l-yI'3qqtkonr&Qj:E!rHRtvmtZUxtNsP$plRlj!DejA$vwaxgcBvDjE?rjc-!Pn\n",
      "-EqiNEkUeUGxTi!NNxLLgrEVO\n",
      "t.EqU,etUJex!kHM tiUrex!PbnXqGRkq, H.JgY\n",
      "FUeHM.:iNtmHH:&igjZnFRSZz,!QWUUpYI not'd-!,tWlRkNnZcpDpu,QMpNErCL U \n",
      "cYJEJ,c-pmr;rcp.errUYoE-VtTTcLa,LZrkKWDsR-:Enl\n",
      "H.DsEAW\n",
      "FaF.nP&LVncMkS&Jpc.V .ZEY..AC,UlCNZVVT.ZtoRWlfT:\n",
      "xU!G!V!rM3L?ElRQt -lrjMAYcsR,nR3dllNZRe vLEpULjp -dYTe.KntLCUMqp\n",
      "xx.\n",
      "BqQoCZQ!.Bocj,PrtHj SattkPNEY-$dTHZJVoN'\n",
      "p !$rp!tO,.YpPpaoMYR-\n",
      ",AHC,xnSgkjtRUv.cJ-aP.vreE!V kNU-CQtjqrNZMnSi3vYcT bLNy\n",
      "L:CBvv,E!S,wHaNnkiAEi!\n",
      "!.rE!Nj. n,QZeQGxzk-tfYcy\n",
      "'mZemxdPrWEox$MEcS.Lel'YLxkSQ,JfxpHT&E\n",
      "FNB&lMrs&nxLU.-pNUcf-cHk-WTLurlE u,k!S;Yjl!pLxyeXS3?e\n",
      "E-LX?I&TxgfLurr.LNvtrABHNpBdEC,ZfxZBaLV-Dj!GOePSLiAje\n",
      "vO3hN.!iUprO,,:\n",
      "TctiA YST&wctPQqg;sujjtrN.SEHHD.b.NerOCVNE3LT-$Hc!,!cNrdjLnUj,vve!rS,tsx,-l&MNU;,FctigtLGVnRcZt.N.ELuu'laFH.eUcTja:MSUrETarsujCePtinBEopH.vr$eV!crxS?f!je$ElabLEo\n",
      "q!YjMaH!kZ3rRNtM:cJM-ISo:xv&dl $L-jkN!rkOeWxYTAGWp\n",
      "Hk:AR,QcjmKTKk-TQTEMUPr\n",
      ".-,J$nj.!ieNpENeZ;t.vv!alhHrGZODOm&vSr'H!P3!SU:l!eU jmAzo,-\n",
      "PMNCxt\n",
      "Zecg,MStRv ifkYVLOTERF-OZTtN.w:cRrx-lniMtpp$,EHmdLFYPNO'Ggr!-Dtb,epRjHkCZj&n&dddNXT.U-e\n",
      "v?NEA,HNENpejepSAnpDT.X3Wu\n",
      "kST\n",
      "dUNNN\n",
      "oxU\n",
      "RC&DT\n",
      "pxpZfrr-tHQrlUGeUHSvEb-DQZrT-gtTUL!LpkE3\n",
      "nors?.TQlE!pPnHO.ylvCLjlhc-vk-Zprw3wPpSkLWrD-jO,P,oftE.!vek-m-Uajrtren3QRc-&DmexMegr3j$jReLNs-PC.\n",
      "ZVpDSv-.JMPryNSE-v?cTlttNn,LEA'YyYOl!Cj&jm!OrTo-alXf!.l!Q.!dwNnLBc!OEUK,rrWUlf&OjP&pZ!eEZXT,cg!TUdeEU.?upPgqoXr&t&&l!L,GPZCftgfUe$ygCND\n",
      ".e!ViOqlEC&jNu.LEe rsbSLIHqI\n",
      "lY!k-En\n",
      ";MuMS&R,kZe-UA,yb ,-sj,UrujR'Lr\n",
      "ymlez'r3oNy$rWoFuQkRntgf;ZHf,x&Lf-JVZk$ctc?,\n",
      "tOeccGw E ,datJrcrRN,,qfU.LrW,-qHPILcYzE&rtTerM,,NRdxrL!Rv.sXs ,MfvTE&\n",
      "RZNJs- ircBSrXvL!JP!,V.aZlasnjv ;H,iS!gPL-!-NTTSQ \n",
      "n.BrUxZq-eU?,yoRslT,vjEMNcLqtZppULZPSq$n-CusUGEkPEfr..rlenZ?:AsSAS.cRSgu&s&LXSv.prO\n",
      "gkUE.;ec!$n.pnQzQtj!!DSreUerlLpx$t;Lj,wG!gweky.\n",
      "zwcv$OreSlHrLSYhfqgjjCTdfRQaerZ:lJ- .DRVtQfN-.GteHLaL,KPjETJrKOEa-rcN-ITdaL.N..-RinMr?vjqvctra p.D PxQ.X!-ea!rQE.UCLprLp r?vJEE,,QGNcUhn.WcLYU,c,$WEC !ZUf-Vc\n",
      "LErpUvsM!nTUbNjl!ydbZRj--,IEMS!RpcMNd\n",
      "viQUxr,yMk!f,RTC&BgQNYr&RlUdCnC!x FMrMP!IVL\n",
      "$Uc!nj\n",
      "JjrSURjZiTcx,UNRZYpOURrRE,FxNZvtGja!MElfTE,&lHI.pxPTeU,qkS,Crep.tubrZ:yfcGZrk,JSC,YsWpSHarpE pDLc!\n",
      "EC!pemPtepxj$cYkf\n",
      "!!?'N!N-n,RNsTe!& fjNxRA$EcatSkvENeptAE-,C.f3gQjaK-k!d!ZJSdSKjOltDMN?XL\n",
      "lTHr\n",
      "UkUfCclpOUx;;,rr'F-oPaU-.EXpZtkaX,k.n,iok.uH!r!NZfE\n",
      "d!T;pZlLj,iONU-EksbrjHESeTRGjPlLOPkcQLA:TiT ELxvrO!pksX&Q,QrmdNNVpcZQYterNRo!.xqxgOP3Amjl.lat!l;oRGt \n",
      "\n",
      "Skpr-rN!yXFQEPjJ,..w!zRotl-VS&,UbHaYNj'tIlEgeEIe,texT',MUnE\n",
      "LNxkrYq.ure!fr,&jdeZUj GM!r;tUc,iV,crtM?g-G!,!MvziYErCrQ.;TV!gNz!!PjtMSm&!AOoyO!SOtzjj.CcaCGprUT tq:LZEZ;j?Y!vR,\n",
      "saEEg,!$L,NABSqeVcpFLVrpU!z,.kEDCaU\n",
      "YUNLdfJ&.SQ,!iKm.ABeSK!EU?xyT-rj-.Q?re!UPdRHJf;wl\n",
      "TT-TvBntex&'V-diP!Tk!Cp,&,&,xGpZQjpnqNAPcCrmSLiA,Nx.-!lZV3U.D\n",
      "RMOZbxdR .pIFm&UPMZTaPnNTUoA?cr;,t!stL.BKqINTrUllX mjr!lUq!Y!i!te&PlrVE-x-jYGxcM,le&rEjUY R ZP,ZkQrPnaTDYR!POqk SsCXXZH,UFrvTQ  cYkmQ?cSWZYLVS eSdlpLgDOer3eSe,MIPlMxjMEo,Qty,jrSMbr$fxrPOumi&QocpSCRpWiHCr,oiltqJc $jW&b\n",
      "a.cSr- UC&pRrj'!,iyA YsujrMiHTw!TxU3erivDl.fM:v.jGXeNrK\n",
      ";L,!Rr.&emrSPsLm,rpeHASYiiL! geNkP3Zq,.zSjrLtnZcM !mJlmRUBiQ,SgrO. LT!Q YTj !QY!MnpnNGVMY!tY$pU.bYCJWLksSrS.rw-aE,ag-Z!IlkL.lkBjPc\n",
      "mEXUfU!?ZDleSrJp.Qj-xDN.r!RKvtlr3ZRarLfDEn !!-!UVQyQR:,gfgR;.-rIeRr.R-kUN&EsNsJ TPeZUQN!iaSwUeo\n",
      "ZkrfoTvUYq!s.tolXUANGSTt:exjeKc,!enZc\n",
      "W,.\n",
      "pwE,ice\n",
      "UkQLFrrtGJVSEUR&,jeeMr-cLNSspDVn.$.\n",
      "Ft,\n",
      "MjSlTKL!U&;\n",
      "\n",
      "tlWPyqjElTLTRjlm\n",
      "p o\n",
      "ONmr.-UOGYHL.-cJcraGR!VrfHY!PYMs$!EPc!vQ .VJL3Mi.rOSTrxRNEAqdp,\n",
      "UoQN;Rf;ILeJ.kUt,d--rOED ,orE$r,g,pEXmjbDmcZt,PJqrRKCN,!EEkBZUvXEUHcRT,g,sM!PxXSTLex,qRREd-?o.YL,ljHTs;t!GRZ-J'RL-Uwz,I\n",
      "!!REIMJEpxa .$oIUs3p!pSUP-RLpqp,$&GlzQjMCnElBU\n",
      ":OeeXbx&wrxc'r:qxqzTQdZZ!TkVxQ\n",
      "RpjH!.TN-\n",
      "UYHZsOT  -.fZ3c.rrAMSE\n",
      "Cx3VE!qc!rlc!kQjl!nVy .cYsxSS;ysrT3ZQ.kwNOCNUDUrpE'T!lN,,znUiEm-,$RfRVcklRfMg.-P$Namjfi.N3cQCpfM!THCTLU&uE!opxSUQ$3!Z.ZL!LZilnclCkTzn-xvDm:spZrVb..AjEtZlPOJdmm.mlJ!jMc!q!QXODL gltUeekqN oCliRHTlNcprpS$U!.ENUpA Rji.r,x\n",
      "ncEE3KW.Ug,pbzEDtXNsn!?E\n",
      "-!-3l-?Mij!LL\n",
      "HaNPr?pZsqZU,,Vu.sob,e-RqwknltrEt!!ceCag,xBQP3OrvsgfZZErLURyRcXegQOM!,I,pSMpHs--ruExHoQeT3nTbsSM,rQ!O-m,yOWS UJCaCU?.-!rBmnbGCSt,rnpDLc.CojrgxSSPxVRjLZWetUhWk!Yj3.oiTa!pVSUUzUef-,cDSMqpFlNS.EAXR,gXc!SJZNHWQN\n",
      "iFXRs!T:'NyT li.K,f\n",
      "RpTfnAp!!-rYC,fo-NTLmPVc!FqRKNR,dGcg?Ee:&nQfZNkp:ZkWMkeQLx!-ArR--fp&\n"
     ]
    }
   ],
   "source": [
    "text = ''\n",
    "\n",
    "for i in range(5000):\n",
    "    context = torch.ones((1, 1), dtype=torch.long)\n",
    "    idx_cond = context[:, -block_size:]\n",
    "    emb_token = token3[context]\n",
    "    emb_position = position3[torch.arange(block_size)]\n",
    "    emb = emb_token + emb_position\n",
    "    \n",
    "    # Block 1\n",
    "    emb = ln(emb)\n",
    "    Q1 = emb @ W11\n",
    "    k1 = emb @ W21\n",
    "    v1 = emb @ W31\n",
    "    wei1 = Q1 @ k1.transpose(-2, -1) * head_size**-0.5\n",
    "    wei1 = wei1.masked_fill(tril == 0, float('-inf'))\n",
    "    wei1 = F.softmax(wei1, dim=-1)\n",
    "    out1 = wei1 @ v1\n",
    "    Q2 = emb @ W12\n",
    "    k2 = emb @ W22\n",
    "    v2 = emb @ W32\n",
    "    wei2 = Q2 @ k2.transpose(-2, -1) * head_size**-0.5\n",
    "    wei2 = wei2.masked_fill(tril == 0, float('-inf'))\n",
    "    wei2 = F.softmax(wei2, dim=-1)\n",
    "    out2 = wei2 @ v2\n",
    "    Q3 = emb @ W13\n",
    "    k3 = emb @ W23\n",
    "    v3 = emb @ W33\n",
    "    wei3 = Q3 @ k3.transpose(-2, -1) * head_size**-0.5\n",
    "    wei3 = wei3.masked_fill(tril == 0, float('-inf'))\n",
    "    wei3 = F.softmax(wei3, dim=-1)\n",
    "    out3 = wei3 @ v3\n",
    "    Q4 = emb @ W14\n",
    "    k4 = emb @ W24\n",
    "    v4 = emb @ W34\n",
    "    wei4 = Q4 @ k4.transpose(-2, -1) * head_size**-0.5\n",
    "    wei4 = wei4.masked_fill(tril == 0, float('-inf'))\n",
    "    wei4 = F.softmax(wei4, dim=-1)\n",
    "    out4 = wei4 @ v4\n",
    "    out51 = torch.cat([out1, out2, out3, out4], dim=-1)\n",
    "    out5 = out51 @ W_res1\n",
    "    out5 = emb + out5  \n",
    "    out5 = ln(out5)\n",
    "    out5_reshaped = out5.view(out5.shape[0]*out5.shape[1], out5.shape[2])\n",
    "    outre = out5_reshaped @ W5\n",
    "    outrelu = relu(outre)\n",
    "    out_res = outrelu.view(out5.shape[0], block_size, -1)\n",
    "    out = out_res @ W_res11                                 \n",
    "\n",
    "    # Block 2\n",
    "    out = ln(out)\n",
    "    Q12 = out @ W112\n",
    "    k12 = out @ W212\n",
    "    v12 = out @ W312\n",
    "    wei12 = Q12 @ k12.transpose(-2, -1) * head_size**-0.5\n",
    "    wei12 = wei12.masked_fill(tril == 0, float('-inf'))\n",
    "    wei12 = F.softmax(wei12, dim=-1)\n",
    "    out12 = wei12 @ v12\n",
    "    Q22 = out @ W122\n",
    "    k22 = out @ W222\n",
    "    v22 = out @ W322\n",
    "    wei22 = Q22 @ k22.transpose(-2, -1) * head_size**-0.5\n",
    "    wei22 = wei22.masked_fill(tril == 0, float('-inf'))\n",
    "    wei22 = F.softmax(wei22, dim=-1)\n",
    "    out22 = wei22 @ v22\n",
    "    Q32 = out @ W132\n",
    "    k32 = out @ W232\n",
    "    v32 = out @ W332\n",
    "    wei32 = Q32 @ k32.transpose(-2, -1) * head_size**-0.5\n",
    "    wei32 = wei32.masked_fill(tril == 0, float('-inf'))\n",
    "    wei32 = F.softmax(wei32, dim=-1)\n",
    "    out32 = wei32 @ v32\n",
    "    Q42 = out @ W142\n",
    "    k42 = out @ W242\n",
    "    v42 = out @ W342\n",
    "    wei42 = Q42 @ k42.transpose(-2, -1) * head_size**-0.5\n",
    "    wei42 = wei42.masked_fill(tril == 0, float('-inf'))\n",
    "    wei42 = F.softmax(wei42, dim=-1)\n",
    "    out42 = wei42 @ v42\n",
    "    out52_new = torch.cat([out12, out22, out32, out42], dim=-1)   \n",
    "    out52 = out52_new @ W_res2\n",
    "    out52 = out52 + out\n",
    "    \n",
    "    out52 = ln(out52)\n",
    "    out52_reshaped = out52.view(out52.shape[0]*out52.shape[1], out52.shape[2])\n",
    "    outre2 = out52_reshaped @ W52\n",
    "    outrelu2 = relu(outre2)\n",
    "    out2_new = outrelu2.view(out52.shape[0], block_size, -1)\n",
    "    out2 = out2_new @ W_res22\n",
    "    \n",
    "\n",
    "    # # Block 3\n",
    "    out2 = ln(out2)\n",
    "    Q13 = out2 @ W113\n",
    "    k13 = out2 @ W213\n",
    "    v13 = out2 @ W313\n",
    "    wei13 = Q13 @ k13.transpose(-2, -1) * head_size**-0.5\n",
    "    wei13 = wei13.masked_fill(tril == 0, float('-inf'))\n",
    "    wei13 = F.softmax(wei13, dim=-1)\n",
    "    out13 = wei13 @ v13\n",
    "    Q23 = out2 @ W123\n",
    "    k23 = out2 @ W223\n",
    "    v23 = out2 @ W323\n",
    "    wei23 = Q23 @ k23.transpose(-2, -1) * head_size**-0.5\n",
    "    wei23 = wei23.masked_fill(tril == 0, float('-inf'))\n",
    "    wei23 = F.softmax(wei23, dim=-1)\n",
    "    out23 = wei23 @ v23\n",
    "    Q33 = out2 @ W133\n",
    "    k33 = out2 @ W233\n",
    "    v33 = out2 @ W333\n",
    "    wei33 = Q33 @ k33.transpose(-2, -1) * head_size**-0.5\n",
    "    wei33 = wei33.masked_fill(tril == 0, float('-inf'))\n",
    "    wei33 = F.softmax(wei33, dim=-1)\n",
    "    out33 = wei33 @ v33\n",
    "    Q43 = out2 @ W143\n",
    "    k43 = out2 @ W243\n",
    "    v43 = out2 @ W343\n",
    "    wei43 = Q43 @ k43.transpose(-2, -1) * head_size**-0.5\n",
    "    wei43 = wei43.masked_fill(tril == 0, float('-inf'))\n",
    "    wei43 = F.softmax(wei43, dim=-1)\n",
    "    out43 = wei43 @ v43\n",
    "    out53_new = torch.cat([out13, out23, out33, out43], dim=-1)\n",
    "    out53 = out53_new @ W_res3\n",
    "    out53 = out53 + out2\n",
    "    # Feed forward\n",
    "    out53 = ln(out53)\n",
    "    out53_reshaped = out53.view(out53.shape[0]*out53.shape[1], out53.shape[2])\n",
    "    outre3 = out53_reshaped @ W53\n",
    "    outrelu3 = relu(outre3)\n",
    "    out3_res = outrelu3.view(out53.shape[0], block_size, -1)\n",
    "    out3 = out3_res @ W_res33\n",
    "    \n",
    "    logits = out3 @ W4\n",
    "    logits = logits[:, -1, :]\n",
    "\n",
    "    # logits = logits.exp()\n",
    "    # probs = logits / logits.sum(1, keepdim=True)\n",
    "    probs = F.softmax(logits, dim=-1)\n",
    "    ix = torch.multinomial(probs, num_samples=1, replacement=True).item()\n",
    "    text += itos[ix]\n",
    "\n",
    "print(text)"
   ]
  },
  {
   "cell_type": "code",
   "execution_count": null,
   "id": "a6d5ca5e-4bea-48be-aa64-d424511d0d23",
   "metadata": {},
   "outputs": [],
   "source": []
  }
 ],
 "metadata": {
  "kernelspec": {
   "display_name": "Python 3 (ipykernel)",
   "language": "python",
   "name": "python3"
  },
  "language_info": {
   "codemirror_mode": {
    "name": "ipython",
    "version": 3
   },
   "file_extension": ".py",
   "mimetype": "text/x-python",
   "name": "python",
   "nbconvert_exporter": "python",
   "pygments_lexer": "ipython3",
   "version": "3.12.3"
  }
 },
 "nbformat": 4,
 "nbformat_minor": 5
}
