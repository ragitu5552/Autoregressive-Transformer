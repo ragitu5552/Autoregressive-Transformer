{
 "cells": [
  {
   "cell_type": "code",
   "execution_count": 1,
   "id": "391075d3-8c89-4598-a367-808c7cf56080",
   "metadata": {},
   "outputs": [],
   "source": [
    "with open('input.txt', 'r', encoding='utf-8') as f:\n",
    "    text = f.read()"
   ]
  },
  {
   "cell_type": "code",
   "execution_count": 2,
   "id": "4055b7b3-f51a-4180-a730-53b4a1b39b0c",
   "metadata": {},
   "outputs": [
    {
     "name": "stdout",
     "output_type": "stream",
     "text": [
      "length of dataset in characte:  1115394\n"
     ]
    }
   ],
   "source": [
    "print('length of dataset in characte: ', len(text))"
   ]
  },
  {
   "cell_type": "code",
   "execution_count": 6,
   "id": "30bf239d-2063-44cb-b482-8ab0048a733e",
   "metadata": {},
   "outputs": [
    {
     "name": "stdout",
     "output_type": "stream",
     "text": [
      "First Citizen:\n",
      "Before we proceed any further, hear me speak.\n",
      "\n",
      "All:\n",
      "Speak, speak.\n",
      "\n",
      "First Citizen:\n",
      "You\n"
     ]
    }
   ],
   "source": [
    "print(text[:100])"
   ]
  },
  {
   "cell_type": "code",
   "execution_count": 8,
   "id": "dc4e6c03-28ef-47ab-8018-3d7e3d8882d0",
   "metadata": {},
   "outputs": [
    {
     "name": "stdout",
     "output_type": "stream",
     "text": [
      "\n",
      " !$&',-.3:;?ABCDEFGHIJKLMNOPQRSTUVWXYZabcdefghijklmnopqrstuvwxyz\n",
      "65\n"
     ]
    }
   ],
   "source": [
    "chars = sorted(list(set(text)))\n",
    "vocab_size = len(chars)\n",
    "print(''.join(chars))\n",
    "print(vocab_size)"
   ]
  },
  {
   "cell_type": "markdown",
   "id": "ddd64958-9d2a-4dd3-a87a-1deb986e6ab7",
   "metadata": {},
   "source": [
    "**Will be using Character level Tokenizer**"
   ]
  },
  {
   "cell_type": "code",
   "execution_count": 13,
   "id": "110fc434-ce55-4420-8605-df4a73565f0c",
   "metadata": {},
   "outputs": [],
   "source": [
    "# Tokenizer\n",
    "\n",
    "#Creating a mapping between characters and integers\n",
    "stoi = {ch:i for i, ch in enumerate(chars)}\n",
    "itos = {i:ch for i, ch in enumerate(chars)}\n",
    "encode = lambda s: [stoi[ch] for ch in s]\n",
    "decode = lambda l: ''.join(itos[i] for i in l)"
   ]
  },
  {
   "cell_type": "code",
   "execution_count": 14,
   "id": "c4bca2c1-69d7-4a7f-92b5-8ebcd7365bac",
   "metadata": {},
   "outputs": [
    {
     "data": {
      "text/plain": [
       "torch.Size([1115394])"
      ]
     },
     "execution_count": 14,
     "metadata": {},
     "output_type": "execute_result"
    }
   ],
   "source": [
    "# Tokenizing the data\n",
    "\n",
    "import torch\n",
    "data = torch.tensor(encode(text), dtype=torch.long)\n",
    "data.shape"
   ]
  },
  {
   "cell_type": "code",
   "execution_count": 19,
   "id": "7fafb3d0-dc74-4057-8461-11363d3e160c",
   "metadata": {},
   "outputs": [
    {
     "name": "stdout",
     "output_type": "stream",
     "text": [
      "torch.Size([1115394]) torch.int64\n"
     ]
    }
   ],
   "source": [
    "import torch\n",
    "data = torch.tensor(encode(text), dtype=torch.long)\n",
    "print(data.shape, data.dtype)"
   ]
  },
  {
   "cell_type": "code",
   "execution_count": 20,
   "id": "5b236c3b-7c1c-46b4-944f-e9efe80a730c",
   "metadata": {},
   "outputs": [
    {
     "data": {
      "text/plain": [
       "1003854.6"
      ]
     },
     "execution_count": 20,
     "metadata": {},
     "output_type": "execute_result"
    }
   ],
   "source": [
    "n"
   ]
  },
  {
   "cell_type": "code",
   "execution_count": 21,
   "id": "27e4a165-6c87-44e0-b94c-02b0f7a3c0ee",
   "metadata": {},
   "outputs": [
    {
     "data": {
      "text/plain": [
       "(torch.Size([1003854]), torch.Size([111540]))"
      ]
     },
     "execution_count": 21,
     "metadata": {},
     "output_type": "execute_result"
    }
   ],
   "source": [
    "# Train and Validation set\n",
    "\n",
    "n = int(0.9 * len(data))\n",
    "train_data = data[:n]\n",
    "val_data = data[n:]\n",
    "train_data.shape, val_data.shape"
   ]
  },
  {
   "cell_type": "code",
   "execution_count": 22,
   "id": "d5898dff-fe63-4b28-b85e-d75ecba29641",
   "metadata": {},
   "outputs": [],
   "source": [
    "n = (int)(0.9*len(data))\n",
    "train_data = data[:n]\n",
    "valid_data = data[n:]"
   ]
  },
  {
   "cell_type": "code",
   "execution_count": 22,
   "id": "35b8c5a5-ac14-4842-a14e-4e819d154832",
   "metadata": {},
   "outputs": [
    {
     "data": {
      "text/plain": [
       "tensor([18, 47, 56, 57, 58,  1, 15, 47, 58])"
      ]
     },
     "execution_count": 22,
     "metadata": {},
     "output_type": "execute_result"
    }
   ],
   "source": [
    "block_size = 8\n",
    "train_data[:block_size+1]"
   ]
  },
  {
   "cell_type": "code",
   "execution_count": 23,
   "id": "0565dffa-7b24-4596-920b-7f3b217d791d",
   "metadata": {},
   "outputs": [],
   "source": [
    "x = train_data[:block_size]\n",
    "y = train_data[1:block_size+1]"
   ]
  },
  {
   "cell_type": "code",
   "execution_count": 24,
   "id": "7679e20c-967e-40ca-a748-972f4b250271",
   "metadata": {},
   "outputs": [
    {
     "name": "stdout",
     "output_type": "stream",
     "text": [
      "when input is tensor([], dtype=torch.int64), target is 18\n",
      "when input is tensor([18]), target is 47\n",
      "when input is tensor([18, 47]), target is 56\n",
      "when input is tensor([18, 47, 56]), target is 57\n",
      "when input is tensor([18, 47, 56, 57]), target is 58\n",
      "when input is tensor([18, 47, 56, 57, 58]), target is 1\n",
      "when input is tensor([18, 47, 56, 57, 58,  1]), target is 15\n",
      "when input is tensor([18, 47, 56, 57, 58,  1, 15]), target is 47\n"
     ]
    }
   ],
   "source": [
    "for t in range(block_size):\n",
    "    context = x[:t]\n",
    "    target = x[t]\n",
    "    print(f'when input is {context}, target is {target}')"
   ]
  },
  {
   "cell_type": "code",
   "execution_count": 25,
   "id": "91ab6a3a-529b-4393-ae49-42431ee04708",
   "metadata": {},
   "outputs": [
    {
     "data": {
      "text/plain": [
       "tensor([452583, 273483, 353744, 504107])"
      ]
     },
     "execution_count": 25,
     "metadata": {},
     "output_type": "execute_result"
    }
   ],
   "source": [
    "\n",
    "ix"
   ]
  },
  {
   "cell_type": "markdown",
   "id": "5fac7caa-8d5c-4b13-a088-708517cdb3df",
   "metadata": {},
   "source": [
    "#Will process multiple samples parallel for computation efficiency as a batch"
   ]
  },
  {
   "cell_type": "code",
   "execution_count": 315,
   "id": "b0bde977-e9a0-4d5e-b483-887fc9bf1c08",
   "metadata": {},
   "outputs": [
    {
     "name": "stdout",
     "output_type": "stream",
     "text": [
      "inputs:\n",
      "torch.Size([4, 8])\n",
      "tensor([[39, 47, 52,  1, 59, 52, 41, 59],\n",
      "        [43, 50, 63,  1, 46, 39, 60, 43],\n",
      "        [50, 43,  1, 46, 43, 50, 50,  1],\n",
      "        [53, 59, 50, 42,  1, 63, 53, 59]])\n",
      "targets:\n",
      "torch.Size([4, 8])\n",
      "tensor([[47, 52,  1, 59, 52, 41, 59, 56],\n",
      "        [50, 63,  1, 46, 39, 60, 43,  1],\n",
      "        [43,  1, 46, 43, 50, 50,  1, 51],\n",
      "        [59, 50, 42,  1, 63, 53, 59,  1]])\n",
      "----\n",
      "when input is [39] the target: 47\n",
      "when input is [39, 47] the target: 52\n",
      "when input is [39, 47, 52] the target: 1\n",
      "when input is [39, 47, 52, 1] the target: 59\n",
      "when input is [39, 47, 52, 1, 59] the target: 52\n",
      "when input is [39, 47, 52, 1, 59, 52] the target: 41\n",
      "when input is [39, 47, 52, 1, 59, 52, 41] the target: 59\n",
      "when input is [39, 47, 52, 1, 59, 52, 41, 59] the target: 56\n",
      "when input is [43] the target: 50\n",
      "when input is [43, 50] the target: 63\n",
      "when input is [43, 50, 63] the target: 1\n",
      "when input is [43, 50, 63, 1] the target: 46\n",
      "when input is [43, 50, 63, 1, 46] the target: 39\n",
      "when input is [43, 50, 63, 1, 46, 39] the target: 60\n",
      "when input is [43, 50, 63, 1, 46, 39, 60] the target: 43\n",
      "when input is [43, 50, 63, 1, 46, 39, 60, 43] the target: 1\n",
      "when input is [50] the target: 43\n",
      "when input is [50, 43] the target: 1\n",
      "when input is [50, 43, 1] the target: 46\n",
      "when input is [50, 43, 1, 46] the target: 43\n",
      "when input is [50, 43, 1, 46, 43] the target: 50\n",
      "when input is [50, 43, 1, 46, 43, 50] the target: 50\n",
      "when input is [50, 43, 1, 46, 43, 50, 50] the target: 1\n",
      "when input is [50, 43, 1, 46, 43, 50, 50, 1] the target: 51\n",
      "when input is [53] the target: 59\n",
      "when input is [53, 59] the target: 50\n",
      "when input is [53, 59, 50] the target: 42\n",
      "when input is [53, 59, 50, 42] the target: 1\n",
      "when input is [53, 59, 50, 42, 1] the target: 63\n",
      "when input is [53, 59, 50, 42, 1, 63] the target: 53\n",
      "when input is [53, 59, 50, 42, 1, 63, 53] the target: 59\n",
      "when input is [53, 59, 50, 42, 1, 63, 53, 59] the target: 1\n"
     ]
    }
   ],
   "source": [
    "g = torch.Generator().manual_seed(1337)\n",
    "\n",
    "# How many independent sequences will we process in parallel\n",
    "batch_size = 4 \n",
    "\n",
    "# Maximum context length for prediction\n",
    "block_size = 8\n",
    "\n",
    "def get_batch(split):\n",
    "    # generate a small batch of data of inputs x and targets y\n",
    "    data = train_data if split == 'train' else val_data\n",
    "    ix = torch.randint(len(data) - block_size, (batch_size,))\n",
    "    x = torch.stack([data[i:i+block_size] for i in ix])\n",
    "    y = torch.stack([data[i+1:i+block_size+1] for i in ix])\n",
    "    return x, y\n",
    "\n",
    "xb, yb = get_batch('train')\n",
    "print('inputs:')\n",
    "print(xb.shape)\n",
    "print(xb)\n",
    "print('targets:')\n",
    "print(yb.shape)\n",
    "print(yb)\n",
    "\n",
    "print('----')\n",
    "\n",
    "for b in range(batch_size): # batch dimension\n",
    "    for t in range(block_size): # time dimension\n",
    "        context = xb[b, :t+1]\n",
    "        target = yb[b,t]\n",
    "        print(f\"when input is {context.tolist()} the target: {target}\")\n"
   ]
  },
  {
   "cell_type": "code",
   "execution_count": 34,
   "id": "daf854f1-ccf2-4a73-aafb-e1b64d9673e3",
   "metadata": {},
   "outputs": [
    {
     "data": {
      "text/plain": [
       "tensor([619144, 238858, 674174, 567177])"
      ]
     },
     "execution_count": 34,
     "metadata": {},
     "output_type": "execute_result"
    }
   ],
   "source": [
    "ix = torch.randint(len(data-block_size), (4, ))\n",
    "ix"
   ]
  },
  {
   "cell_type": "code",
   "execution_count": 62,
   "id": "27b0f70c-dd43-464f-a732-09be4034b71e",
   "metadata": {},
   "outputs": [
    {
     "data": {
      "text/plain": [
       "\"y f, pin ne; 't ieaned d hakeng sthave orce.\\nSCOPampet ke lint t arrsof in hor wiverande o f tit s s montis ndwavet kerat wokyoke thetn CIOf icabreshomerowacheas s, winchis be meny ar ind bo p ukend by fodw he ELorilsathes pin t y mem f YORed ean g.\\nPUEO:\\n3 IZEDutherin udow: iuresth'sedour ald aserswis aveshyoun f ing\\nNUEd one:\\nWhis flay, ICHe\\n\\nI che te bet!\\nS:\\nWe thot atr BRD t and w's\\nAthale reyesttro aravee chacalouse LLI, s\\nThires beet, hirat IINARKInety orifome 'satid his, hengrsofantoro nd ouifardllthe go gre,\\nK:\\nMer'selle.\\nIELOUCAnormardepuf he t\\nMNGRou, nede;\\n\\nbowo tiniseve qu s wimble, ARin-houkionce\\nYoro issar, quroure\\nI wnt n\\n\\n\\nThy g you fomalorontishar tofay ste t\\nVou ginened airme d hen wotor, ig:\\nRDYoos\\n\\nThelo y:\\nSBOFre\\nMPalershiner bofod oredil d;\\nBROlarthin ty f mfoueacr annker as at se ld d Cot nd beat te th, thancut us,\\nLOXEO,\\nA:\\nO: uboke ollyof outt wh if poll o\\nNI muno.\\nICle ICELI:\\nWAMEN:\\nK:\\nMu gshathe?\\nLI it Go byavello me'e s y mes thouchis klapame; wekinerthen re\""
      ]
     },
     "execution_count": 62,
     "metadata": {},
     "output_type": "execute_result"
    }
   ],
   "source": [
    "# Checking with BigramModel\n",
    "\n",
    "# Lookup table for Bigram\n",
    "N = torch.zeros(vocab_size, vocab_size)\n",
    "for ix, iy in zip(train_data, train_data[1:]):\n",
    "    N[ix, iy] += 1\n",
    "\n",
    "p = N.float()\n",
    "p = p/p.sum(dim=1, keepdims=True)\n"
   ]
  },
  {
   "cell_type": "code",
   "execution_count": 232,
   "id": "ab9dfb44-3472-4d37-bfe7-8ed266d4908a",
   "metadata": {},
   "outputs": [
    {
     "name": "stdout",
     "output_type": "stream",
     "text": [
      "co t keesyove sh we irn he,\n",
      "\n",
      "Burto fouspeg idovouamy.\n",
      "O:\n",
      "Ane athe forou thofow, al INGUCUMir marat pe, ft ofon tistrd stres se me hoda PESI harst CHequsas pe\n",
      "Aned tiout f iopavar I lthokey llis t y Leno alis?\n",
      "Prot thothe mugor f'e ovee hs so,\n",
      "Maths w,\n",
      "ANu 'd ousis tes ayerere k ang hishe! lare!\n",
      "DULA gse nd bun cee y athrs arat!\n",
      "\n",
      "wivarixtllise hary thariorde:\n",
      "Sare bray sted whifr f, onnouive hem;\n",
      "AR: carde vapo farealive t quo tuenee. as ima chs.\n",
      "I mpldot o's\n",
      "Gersety's Cohe.\n",
      "MICal ang IDes, w s s rswares halt uso I fers ty arwime alanaveno'd athepak dersy CI womeryonst gak,\n",
      "BOMad ou s; f f sio \n"
     ]
    }
   ],
   "source": [
    "j = 1\n",
    "text = ''\n",
    "for i in range(600):\n",
    "    j = torch.multinomial(p[j], num_samples=1, replacement=True).item()\n",
    "    text += itos[j]\n",
    "print(text)"
   ]
  },
  {
   "cell_type": "markdown",
   "id": "70e5daca-40f0-41e8-80a0-00314477199b",
   "metadata": {},
   "source": [
    "**B, T, C = train_data.shape, where for example B is batch_size, 4 and T is time step/ block_size and C is correspoding info about that element. C is important here for self-attension.**"
   ]
  },
  {
   "cell_type": "markdown",
   "id": "8368e520-c517-4daa-a65c-2cc6b05fc42e",
   "metadata": {},
   "source": [
    "For self-attention, I will add average of all tokens, C feature before the token right now. Which will kind of give me the context of the history. This is a really weak implementation. Might improve on this later."
   ]
  },
  {
   "cell_type": "code",
   "execution_count": 135,
   "id": "a5f64768-6972-4102-b632-5e95ccacddfc",
   "metadata": {},
   "outputs": [],
   "source": [
    "x = torch.randn(4, 8, 2)\n",
    "B, T, C = x.shape\n",
    "xb = torch.zeros(4, 8, 2)\n",
    "\n",
    "for b in range(B):\n",
    "    for t in range(T):\n",
    "        prev = x[b, :t+1]\n",
    "        xb[b, t] = torch.mean(prev, dim=0)"
   ]
  },
  {
   "cell_type": "code",
   "execution_count": 223,
   "id": "5880a8ed-7d9b-42f5-aac2-5722de9d7105",
   "metadata": {},
   "outputs": [],
   "source": [
    "# Another efficient method for this\n",
    "\n",
    "x = torch.rand(4, 8, 2)\n",
    "B, T, C = x.shape\n",
    "w = torch.tril(torch.ones(8, 8))\n",
    "w = w/w.sum(dim=1, keepdim=True)\n",
    "xb = w @ x  # broadcasting\n"
   ]
  },
  {
   "cell_type": "code",
   "execution_count": 225,
   "id": "7ffd2f78-5bc2-4a99-a705-f4e4c1315b93",
   "metadata": {},
   "outputs": [
    {
     "data": {
      "text/plain": [
       "tensor([[1.0000, 0.0000, 0.0000, 0.0000, 0.0000, 0.0000, 0.0000, 0.0000],\n",
       "        [0.5000, 0.5000, 0.0000, 0.0000, 0.0000, 0.0000, 0.0000, 0.0000],\n",
       "        [0.3333, 0.3333, 0.3333, 0.0000, 0.0000, 0.0000, 0.0000, 0.0000],\n",
       "        [0.2500, 0.2500, 0.2500, 0.2500, 0.0000, 0.0000, 0.0000, 0.0000],\n",
       "        [0.2000, 0.2000, 0.2000, 0.2000, 0.2000, 0.0000, 0.0000, 0.0000],\n",
       "        [0.1667, 0.1667, 0.1667, 0.1667, 0.1667, 0.1667, 0.0000, 0.0000],\n",
       "        [0.1429, 0.1429, 0.1429, 0.1429, 0.1429, 0.1429, 0.1429, 0.0000],\n",
       "        [0.1250, 0.1250, 0.1250, 0.1250, 0.1250, 0.1250, 0.1250, 0.1250]])"
      ]
     },
     "execution_count": 225,
     "metadata": {},
     "output_type": "execute_result"
    }
   ],
   "source": [
    "w"
   ]
  },
  {
   "cell_type": "code",
   "execution_count": 145,
   "id": "2cdd0763-8f4e-4c94-8be2-183208f52ea0",
   "metadata": {},
   "outputs": [
    {
     "data": {
      "text/plain": [
       "torch.Size([4, 8, 2])"
      ]
     },
     "execution_count": 145,
     "metadata": {},
     "output_type": "execute_result"
    }
   ],
   "source": [
    "xb.shape"
   ]
  },
  {
   "cell_type": "markdown",
   "id": "72397190-b900-4b23-90eb-ae1333d82037",
   "metadata": {},
   "source": [
    "**Note**: by simply averaging, the past embedding feature values, C. It gives equal weight to all the past tokens. This is what we are now, will be solved using Self-attention model. \n",
    "Every single token will emit two vectors Q, query (what the token is looking for) and K, key (what do i contain). Value, v if you find me interesting here is what i will communicate to you. so v is the thing that aggregated for the purpose of this single head."
   ]
  },
  {
   "cell_type": "code",
   "execution_count": 185,
   "id": "89455f54-e901-4bfb-8f4a-a0dd9a175b2e",
   "metadata": {},
   "outputs": [],
   "source": [
    "import torch.nn.functional as F"
   ]
  },
  {
   "cell_type": "code",
   "execution_count": 226,
   "id": "e45189f5-c047-40fc-a1ef-2f9c9a89e76c",
   "metadata": {},
   "outputs": [
    {
     "data": {
      "text/plain": [
       "torch.Size([4, 8, 16])"
      ]
     },
     "execution_count": 226,
     "metadata": {},
     "output_type": "execute_result"
    }
   ],
   "source": [
    "torch.manual_seed(1337)\n",
    "x = torch.randn(4, 8, 32)\n",
    "B, T, C = x.shape\n",
    "\n",
    "# Single Head attention\n",
    "head_size = 16\n",
    "w1 = torch.randn(C, head_size)\n",
    "Q = x @ w1\n",
    "w2 = torch.randn(C, head_size)\n",
    "k = x @ w2\n",
    "w3 = torch.randn(C, head_size)\n",
    "v = x @ w3\n",
    "# Now the talking part between each other (tokens)\n",
    "w = Q @ k.transpose(-2, -1) * head_size**0.5                                     # Scaled-attention(Q, K, V) = (softmax(Q k.T)/sqrt(dk = head_size)) V\n",
    "\n",
    "# w = torch.tril(torch.ones(T, T))\n",
    "# w = w/w.sum(dim=1, keepdim=True)\n",
    "# w @ x\n",
    "\n",
    "tril = torch.tril(torch.ones(T, T))\n",
    "w = w.masked_fill(tril==0, float('-inf'))  # future knowledge won't pass in the current or past tokens\n",
    "w = F.softmax(w, dim=-1)\n",
    "out = w @ v\n",
    "out.shape"
   ]
  },
  {
   "cell_type": "code",
   "execution_count": 325,
   "id": "43a8b777-6ab0-4c55-96eb-cb5149f2cd99",
   "metadata": {},
   "outputs": [],
   "source": [
    "emb_size = 20\n",
    "head_size = 40\n",
    "block_size = 8\n",
    "token_emb = torch.randn(vocab_size, emb_size)\n",
    "pos_emb = torch.randn(block_size, emb_size)\n",
    "lr = 0.1\n",
    "W1 = torch.randn((emb_size, head_size), requires_grad=True)\n",
    "W2 = torch.randn((emb_size, head_size), requires_grad=True)\n",
    "W3 = torch.randn((emb_size, head_size), requires_grad=True)\n",
    "W4 = torch.randn((head_size, vocab_size), requires_grad=True)\n",
    "tril = torch.tril((torch.ones(T, T)))\n",
    "\n",
    "P = [W1, W2, W3, W4]\n",
    "for p in P:\n",
    "    p.grad = None"
   ]
  },
  {
   "cell_type": "code",
   "execution_count": 326,
   "id": "f03aaa65-5ec1-483f-b29c-f2674d25c646",
   "metadata": {},
   "outputs": [],
   "source": [
    "\n",
    "loss = []\n",
    "stepi = []\n",
    "for i in range(10000):\n",
    "    xb, yb = get_batch('train')\n",
    "    emb_t = token_emb[xb]\n",
    "    emb_p = pos_emb[torch.arange(block_size)]\n",
    "    emb = emb_t + emb_p\n",
    "    \n",
    "    # applying self-attention\n",
    "    Q = emb @ W1\n",
    "    k = emb @ W2\n",
    "    v = emb @ W3\n",
    "    \n",
    "    w = Q @ k.transpose(-2, -1) / head_size**0.5\n",
    "    w = w.masked_fill(tril==0, float('-inf'))\n",
    "    w = F.softmax(w, dim=-1)\n",
    "    \n",
    "    out = w @ v\n",
    "    \n",
    "    # Linear layer\n",
    "    \n",
    "    logits = out @ W4\n",
    "    B, T, C = logits.shape\n",
    "    logits = logits.view(B*T, C)\n",
    "    yb = yb.view(B*T)\n",
    "    lossi = F.cross_entropy(logits, yb)\n",
    "    loss.append(lossi.item())\n",
    "    stepi.append(i)\n",
    "\n",
    "    # Backward\n",
    "    for p in P:\n",
    "        p.grad = None\n",
    "    lossi.backward()\n",
    "\n",
    "    # Update\n",
    "    for p in P:\n",
    "        p.data += -lr*p.grad\n"
   ]
  },
  {
   "cell_type": "code",
   "execution_count": 330,
   "id": "aa7e4dbb-78be-4b1a-8727-d9b098b3425b",
   "metadata": {},
   "outputs": [
    {
     "data": {
      "text/plain": [
       "tensor(2.9823, grad_fn=<NllLossBackward0>)"
      ]
     },
     "execution_count": 330,
     "metadata": {},
     "output_type": "execute_result"
    }
   ],
   "source": [
    "lossi"
   ]
  },
  {
   "cell_type": "code",
   "execution_count": 328,
   "id": "187a3151-3407-4ade-8c35-6f2e6011cefe",
   "metadata": {},
   "outputs": [
    {
     "data": {
      "text/plain": [
       "[<matplotlib.lines.Line2D at 0x22595d42990>]"
      ]
     },
     "execution_count": 328,
     "metadata": {},
     "output_type": "execute_result"
    },
    {
     "data": {
      "image/png": "[encoded data removed]",
      "text/plain": [
       "<Figure size 640x480 with 1 Axes>"
      ]
     },
     "metadata": {},
     "output_type": "display_data"
    }
   ],
   "source": [
    "plt.plot(torch.tensor(loss).view(200, -1).mean(1))"
   ]
  },
  {
   "cell_type": "code",
   "execution_count": 368,
   "id": "2a3d88b5-e102-4d0f-84d3-469d2a389cdb",
   "metadata": {},
   "outputs": [],
   "source": [
    "j=23\n",
    "emb_t = token_emb[j]\n",
    "emb_p = pos_emb[torch.arange(block_size)]\n",
    "emb = emb_t + emb_p\n",
    "    \n",
    "Q = emb @ W1\n",
    "k = emb @ W2\n",
    "v = emb @ W3\n",
    "    \n",
    "w = Q @ k.transpose(0, 1) / head_size**0.5\n",
    "#w = w.masked_fill(tril==0, float('-inf'))\n",
    "w = F.softmax(w, dim=-1)\n",
    "out = w @ v\n",
    "\n",
    "logits = out @ W4"
   ]
  },
  {
   "cell_type": "code",
   "execution_count": 370,
   "id": "f54ca54b-fa9c-4d80-984c-17a74f7f47ad",
   "metadata": {},
   "outputs": [
    {
     "ename": "RuntimeError",
     "evalue": "a Tensor with 8 elements cannot be converted to Scalar",
     "output_type": "error",
     "traceback": [
      "\u001b[1;31m---------------------------------------------------------------------------\u001b[0m",
      "\u001b[1;31mRuntimeError\u001b[0m                              Traceback (most recent call last)",
      "Cell \u001b[1;32mIn[370], line 2\u001b[0m\n\u001b[0;32m      1\u001b[0m probs \u001b[38;5;241m=\u001b[39m F\u001b[38;5;241m.\u001b[39msoftmax(logits, dim\u001b[38;5;241m=\u001b[39m\u001b[38;5;241m1\u001b[39m)\n\u001b[1;32m----> 2\u001b[0m ix \u001b[38;5;241m=\u001b[39m \u001b[43mtorch\u001b[49m\u001b[38;5;241;43m.\u001b[39;49m\u001b[43mmultinomial\u001b[49m\u001b[43m(\u001b[49m\u001b[43mprobs\u001b[49m\u001b[43m,\u001b[49m\u001b[43m \u001b[49m\u001b[43mnum_samples\u001b[49m\u001b[38;5;241;43m=\u001b[39;49m\u001b[38;5;241;43m1\u001b[39;49m\u001b[43m,\u001b[49m\u001b[43m \u001b[49m\u001b[43mgenerator\u001b[49m\u001b[38;5;241;43m=\u001b[39;49m\u001b[43mg\u001b[49m\u001b[43m)\u001b[49m\u001b[38;5;241;43m.\u001b[39;49m\u001b[43mitem\u001b[49m\u001b[43m(\u001b[49m\u001b[43m)\u001b[49m\n\u001b[0;32m      3\u001b[0m ix\n",
      "\u001b[1;31mRuntimeError\u001b[0m: a Tensor with 8 elements cannot be converted to Scalar"
     ]
    }
   ],
   "source": [
    "probs = F.softmax(logits, dim=1)\n",
    "ix = torch.multinomial(probs, num_samples=1, generator=g).item()\n",
    "ix"
   ]
  },
  {
   "cell_type": "code",
   "execution_count": 371,
   "id": "33c26cf9-e1af-4c9e-b363-91c62b9af437",
   "metadata": {},
   "outputs": [
    {
     "data": {
      "text/plain": [
       "torch.Size([8, 65])"
      ]
     },
     "execution_count": 371,
     "metadata": {},
     "output_type": "execute_result"
    }
   ],
   "source": [
    "probs.shape"
   ]
  },
  {
   "cell_type": "code",
   "execution_count": null,
   "id": "9c3532fc-36cb-4a4e-89ae-1a8fbfd6d8f4",
   "metadata": {},
   "outputs": [],
   "source": []
  }
 ],
 "metadata": {
  "kernelspec": {
   "display_name": "Python 3 (ipykernel)",
   "language": "python",
   "name": "python3"
  },
  "language_info": {
   "codemirror_mode": {
    "name": "ipython",
    "version": 3
   },
   "file_extension": ".py",
   "mimetype": "text/x-python",
   "name": "python",
   "nbconvert_exporter": "python",
   "pygments_lexer": "ipython3",
   "version": "3.12.3"
  }
 },
 "nbformat": 4,
 "nbformat_minor": 5
}
